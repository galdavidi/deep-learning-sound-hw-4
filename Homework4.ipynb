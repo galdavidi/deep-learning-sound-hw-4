{
  "cells": [
    {
      "cell_type": "markdown",
      "metadata": {
        "id": "mwqtbpw7WYDw"
      },
      "source": [
        "#### Student Name:\n",
        "#### Student ID:"
      ]
    },
    {
      "cell_type": "markdown",
      "metadata": {
        "id": "eK-fy4cmWYD1"
      },
      "source": [
        "# Overview\n",
        "### Due Jan 25th\n",
        "\n",
        "### GAN, chroma (MIDI) and pix2pix\n",
        "\n",
        "Instructions:\n",
        "\n",
        "* This notebook is an interactive assignment; please read and follow the instructions in each cell.\n",
        "\n",
        "* Cells that require your input (in the form of code or written response) will have 'Question #' above.\n",
        "\n",
        "* After completing the assignment, please submit this notebook and printout as a PDF.\n"
      ]
    },
    {
      "cell_type": "code",
      "execution_count": 1,
      "metadata": {
        "id": "wkG3YX39I6u1"
      },
      "outputs": [],
      "source": [
        "# If you're collaboraing with a classmate, please fill in the following:\n",
        "\n",
        "collaboration = {\n",
        "    \"PLACE YOUR STUDENT ID HERE\" : \"PLACE YOUR COLLABORATOR'S STUDENT ID HERE\"\n",
        "}"
      ]
    },
    {
      "cell_type": "markdown",
      "metadata": {
        "id": "2mUtlgRDWYD3"
      },
      "source": [
        "In this notebook we explore a style transfer application that tries to change the musical texture of a piece while maintaining the harmonic structure. In order to do so we train a pix2pix type of model that learns the relations between chroma and the musical texture (distribution of notes). For this purpose we extract chroma from MIDI data and learn a generator that complements the notes from a given texture. You can think about this as something similar to pix2pix that learns completion of image textures from a sketch. In the image GAN the contours for training are generated using an edge detection on a complete image. You can read more about the history of Midi formats at https://cecm.indiana.edu/361/midi.html#:~:text=MIDI%20is%20an%20acronym%20that,each%20other%2C%20using%20MIDI%20messages."
      ]
    },
    {
      "cell_type": "markdown",
      "metadata": {
        "id": "vXqiXvjmGkVv"
      },
      "source": [
        "# 1. Imports and Loading Data\n",
        "Before running, please download the files from https://drive.google.com/drive/folders/1B3WpC9hRH4W6yzh7gahFAZodw1lP4aaM?usp=share_link make sure to upload the following to your python directory\n",
        "- reverse_pianoroll.py\n",
        "- convert.py\n",
        "- Classical_Music_Midi.zip and unzip it"
      ]
    },
    {
      "cell_type": "code",
      "execution_count": null,
      "metadata": {
        "id": "o8ztrskPi2TJ"
      },
      "outputs": [],
      "source": [
        "# !unzip content/Classical_Music_Midi.zip -d content/Classical_Music_Midi/\n",
        "#!pip install down\n",
        "#!gdown --folder https://drive.google.com/drive/folders/1B3WpC9hRH4W6yzh7gahFAZodw1lP4aaM --output ./content"
      ]
    },
    {
      "cell_type": "code",
      "execution_count": 9,
      "metadata": {
        "id": "dAiCT0DTi2s4"
      },
      "outputs": [],
      "source": [
        "# !brew install -y fluidsynth"
      ]
    },
    {
      "cell_type": "code",
      "execution_count": 10,
      "metadata": {
        "id": "zauwJ6Npi34v"
      },
      "outputs": [],
      "source": [
        "# !pip install --upgrade pyfluidsynth"
      ]
    },
    {
      "cell_type": "code",
      "execution_count": 11,
      "metadata": {
        "id": "eAwx7RQpi5yk"
      },
      "outputs": [],
      "source": [
        "# !pip install pretty_midi\n"
      ]
    },
    {
      "cell_type": "code",
      "execution_count": 3,
      "metadata": {
        "id": "zR2xjd5_8g2N"
      },
      "outputs": [],
      "source": [
        "import pretty_midi\n",
        "from  content import reverse_pianoroll\n",
        "from content import convert\n",
        "import librosa"
      ]
    },
    {
      "cell_type": "code",
      "execution_count": 4,
      "metadata": {
        "id": "LNiQvohD8g25"
      },
      "outputs": [],
      "source": [
        "import numpy as np\n",
        "import sys\n",
        "import random"
      ]
    },
    {
      "cell_type": "code",
      "execution_count": 5,
      "metadata": {
        "id": "SWV1ONBqEj1t"
      },
      "outputs": [],
      "source": [
        "#all necessary imports: use pip install [library name] to add to environment\n",
        "\n",
        "import tensorflow.compat.v1 as tf\n",
        "#import tensorflow as tf\n",
        "import numpy as np\n",
        "import matplotlib.pyplot as plt\n",
        "import matplotlib.gridspec as gridspec\n",
        "import os\n",
        "from os import listdir\n",
        "import glob"
      ]
    },
    {
      "cell_type": "code",
      "execution_count": 6,
      "metadata": {
        "id": "t0MVvlIeEj1v"
      },
      "outputs": [],
      "source": [
        "#add songs to data\n",
        "def get_songs(path):\n",
        "    files = glob.glob('{}/*.mid*'.format(path))\n",
        "    songs = {}\n",
        "    for f in files:\n",
        "        try:\n",
        "            data = pretty_midi.PrettyMIDI(f)\n",
        "            song = data.get_piano_roll(fs=16)\n",
        "            song = convert.forward(song)\n",
        "            # song = np.transpose(song) #if your code matrices aren't working, try uncommenting this. the convert.py file might not be updated\n",
        "            songs[f] = {\n",
        "                'original_midi': data,\n",
        "                'song': song\n",
        "            }\n",
        "        except Exception as e:\n",
        "            raise e\n",
        "    return songs"
      ]
    },
    {
      "cell_type": "code",
      "execution_count": 7,
      "metadata": {
        "id": "Xmg6hl8KjBJc"
      },
      "outputs": [],
      "source": [
        "from IPython import display\n",
        "import fluidsynth\n",
        "\n",
        "_SAMPLING_RATE = 16000\n",
        "def display_audio(pm: pretty_midi.PrettyMIDI, seconds=30):\n",
        "  waveform = pm.fluidsynth(fs=_SAMPLING_RATE)\n",
        "  # Take a sample of the generated waveform to mitigate kernel resets\n",
        "  waveform_short = waveform[:seconds*_SAMPLING_RATE]\n",
        "  return display.Audio(waveform_short, rate=_SAMPLING_RATE)"
      ]
    },
    {
      "cell_type": "code",
      "execution_count": 8,
      "metadata": {
        "id": "8iihxLXwEj1w",
        "outputId": "1ece621f-2808-40e3-dade-378de66ba1c8"
      },
      "outputs": [
        {
          "name": "stdout",
          "output_type": "stream",
          "text": [
            "21 songs processed\n",
            "21 chromas processed\n"
          ]
        }
      ],
      "source": [
        "#custom function to extract chroma features from song\n",
        "def add_chromas(songs):\n",
        "    \"\"\"\n",
        "    the add_chromas function takes in a dictionary of songs and adds a chroma feature to each song in the dictionary.\n",
        "    for each song in the songs (which is the piano roll of the song), extract the chroma features by finding the notes that are \n",
        "    played at each time step. \n",
        "    by checking if the value of the note is greater than 0. if so we find the note using mod 12 and increment the corresponding \n",
        "    index in the chroma vector.\n",
        "    \"\"\"\n",
        "    chromas = []\n",
        "    for song in songs:\n",
        "        chroma = np.zeros(shape=(np.shape(songs[song]['song'])[0], 12))\n",
        "        for i in np.arange(np.shape(songs[song]['song'])[0]): # for each time step\n",
        "            for j in np.arange(78): # the shape of songs[song]['song'][i] is 156 (78*2)   \n",
        "                if songs[song]['song'][i][j] > 0:\n",
        "                    chroma[i][np.mod(j,12)] += 1 # there are 12 notes in an octave so we can just mod by 12 to get the correct chord index\n",
        "        songs[song]['chroma'] = chroma\n",
        "\n",
        "    return songs\n",
        "\n",
        "songs = get_songs('./content/Classical_Music_Midi/mozart')\n",
        "songs = add_chromas(songs)\n",
        "print (\"{} songs processed\".format(len(['song' in songs[f] for f in songs])))\n",
        "print (\"{} chromas processed\".format(len(['chroma' in songs[f] for f in songs])))"
      ]
    },
    {
      "cell_type": "markdown",
      "metadata": {
        "id": "YzToDZo1WYD_"
      },
      "source": [
        "#### Exploring the song and chroma representations\n",
        "\n",
        "Looking at a random song segment"
      ]
    },
    {
      "cell_type": "code",
      "execution_count": 9,
      "metadata": {
        "id": "XjqIzFx7WYD_",
        "outputId": "686477ca-27d3-4432-d46a-965b6acfc66e"
      },
      "outputs": [
        {
          "data": {
            "text/plain": [
              "((3809, 156), (3809, 12))"
            ]
          },
          "execution_count": 9,
          "metadata": {},
          "output_type": "execute_result"
        }
      ],
      "source": [
        "cur_song = list(songs.keys())[0]\n",
        "song = songs[cur_song]['song']\n",
        "chroma = songs[cur_song]['chroma']\n",
        "np.shape(song), np.shape(chroma)"
      ]
    },
    {
      "cell_type": "code",
      "execution_count": 11,
      "metadata": {
        "id": "stw04DAGWYEA",
        "outputId": "a7e3ffef-4d75-41fa-9cd9-bf0039ae55cc"
      },
      "outputs": [
        {
          "data": {
            "text/plain": [
              "<matplotlib.image.AxesImage at 0x16e34d5b0>"
            ]
          },
          "execution_count": 11,
          "metadata": {},
          "output_type": "execute_result"
        },
        {
          "data": {
            "image/png": "[encoded data removed]",
            "text/plain": [
              "<Figure size 2000x1000 with 1 Axes>"
            ]
          },
          "metadata": {},
          "output_type": "display_data"
        }
      ],
      "source": [
        "plt.figure(figsize = (20,10))\n",
        "plt.imshow(100*song[:100,:].T)"
      ]
    },
    {
      "cell_type": "code",
      "execution_count": 10,
      "metadata": {
        "id": "7QJ3I7UWWYEB",
        "outputId": "f071f113-edaa-4c7a-d163-2ce87321b96f"
      },
      "outputs": [
        {
          "data": {
            "text/plain": [
              "<matplotlib.image.AxesImage at 0x143b23650>"
            ]
          },
          "execution_count": 10,
          "metadata": {},
          "output_type": "execute_result"
        },
        {
          "data": {
            "image/png": "[encoded data removed]",
            "text/plain": [
              "<Figure size 2000x1000 with 1 Axes>"
            ]
          },
          "metadata": {},
          "output_type": "display_data"
        }
      ],
      "source": [
        "plt.figure(figsize = (20,10))\n",
        "plt.imshow(100*chroma[:100,:].T)"
      ]
    },
    {
      "cell_type": "markdown",
      "metadata": {
        "id": "1YBxV2uQWYEB"
      },
      "source": [
        "##### Question 1 [5 points]\n",
        "Describe what the chromas function does. In your answer refer to musical terms of note names and octave numbers. How does that resemble or differ from the chroma feature that is computed for audio spectrum? Use the figures to demonstrate the explanation.\n",
        "\n",
        "Hint: Refresh the musical terms by looking at the lecture slides and consider what type of music anaylsis the audio chroma is used for. If you are interested more in musical theory you may also consider the concepts of \"pitch class\" and \"music set theory\" that are explained in https://en.wikipedia.org/wiki/Musical_note and https://en.wikipedia.org/wiki/Set_theory_%28music%29"
      ]
    },
    {
      "cell_type": "markdown",
      "metadata": {
        "id": "8hhMa419WYEB"
      },
      "source": [
        "the add_chromas function takes in a dictionary of songs and adds a chroma feature to each song in the dictionary.\n",
        "for each song in the songs (which is the piano roll of the song), extract the chroma features by finding the notes that are played at each time step \n",
        "by checking if the value of each of the 78 piano roll notes is greater than 0 - active. if so we find the musical (c,d,e,f...) note using mod 12 and increment the corresponding index in the chroma feature - chord."
      ]
    },
    {
      "cell_type": "markdown",
      "metadata": {
        "id": "lIhhTSj6GtvT"
      },
      "source": [
        "# 2. Setting Up GAN Model"
      ]
    },
    {
      "cell_type": "code",
      "execution_count": 11,
      "metadata": {
        "colab": {
          "base_uri": "https://localhost:8080/"
        },
        "id": "aIaKKrWmEj1w",
        "outputId": "5bd4c581-204f-4706-a2a6-c9edfde2e467"
      },
      "outputs": [
        {
          "name": "stdout",
          "output_type": "stream",
          "text": [
            "624 48\n"
          ]
        }
      ],
      "source": [
        "lowest_note = 0 #the index of the lowest note on the piano roll\n",
        "highest_note = 78 #the index of the highest note on the piano roll\n",
        "note_range = highest_note-lowest_note #the note range\n",
        "\n",
        "num_timesteps  = 4 #This is the number of timesteps that we will create at a time\n",
        "X_dim = 2*note_range*num_timesteps #This is the size of the visible layer.\n",
        "Z_dim = 12*num_timesteps \n",
        "n_hidden = 50 #This is the size of the hidden layer\n",
        "\n",
        "print(X_dim,Z_dim)"
      ]
    },
    {
      "cell_type": "markdown",
      "metadata": {
        "id": "byxUD8BDWYEC"
      },
      "source": [
        "##### Question 2 [5 points]\n",
        "\n",
        "Explain what aspects of music (pitch, rhythm, note duration) are captured by the latent random Z? In your answer refer to the representaiton of the song data. Note how song matrix differs from standard pianoroll."
      ]
    },
    {
      "cell_type": "markdown",
      "metadata": {
        "id": "_XGBCf4JWYEC"
      },
      "source": [
        "The latent random Z captures the harmony structure over multiple timesteps of the music by encoding chroma features (pitch classes like C, D, E, etc.) over time. Rhythm and note duration are not explicitly included, they are indirectly represented through changes in chroma activity over time. Unlike the detailed piano roll, which includes velocity and note-on/off data for 78 keys, Z provides a high-level abstraction of the song, emphasizing tonal and harmonic patterns.\n"
      ]
    },
    {
      "cell_type": "code",
      "execution_count": 12,
      "metadata": {
        "id": "uDpINNjpEj1x"
      },
      "outputs": [],
      "source": [
        "def xavier_init(size):\n",
        "    in_dim = size[0]\n",
        "    xavier_stddev = 1. / tf.sqrt(in_dim / 2.)\n",
        "    return tf.random_normal(shape=size, stddev=xavier_stddev)"
      ]
    },
    {
      "cell_type": "code",
      "execution_count": 13,
      "metadata": {
        "id": "24NXtz5IEj1x"
      },
      "outputs": [
        {
          "name": "stdout",
          "output_type": "stream",
          "text": [
            "WARNING:tensorflow:From /Users/roybh/.pyenv/versions/audio_exc4/lib/python3.12/site-packages/tensorflow/python/compat/v2_compat.py:98: disable_resource_variables (from tensorflow.python.ops.resource_variables_toggle) is deprecated and will be removed in a future version.\n",
            "Instructions for updating:\n",
            "non-resource variables are not supported in the long term\n"
          ]
        }
      ],
      "source": [
        "tf.disable_v2_behavior()\n",
        "\n",
        "#setting up model, discriminator weights and biases\n",
        "X = tf.placeholder(tf.float32, shape=[None, X_dim])\n",
        "\n",
        "\n",
        "D_W1 = tf.Variable(xavier_init([X_dim+Z_dim, 512]))\n",
        "D_b1 = tf.Variable(tf.zeros(shape=[512]))\n",
        "\n",
        "D_W2 = tf.Variable(xavier_init([512, 1]))\n",
        "D_b2 = tf.Variable(tf.zeros(shape=[1]))\n",
        "\n",
        "theta_D = [D_W1, D_W2, D_b1, D_b2]"
      ]
    },
    {
      "cell_type": "code",
      "execution_count": 14,
      "metadata": {
        "id": "LRLHyW-CEj1x"
      },
      "outputs": [],
      "source": [
        "#setting up model, generator weights and biases\n",
        "\n",
        "#z is the space we're generating from\n",
        "Z = tf.placeholder(tf.float32, shape=[None, Z_dim])\n",
        "\n",
        "G_W1 = tf.Variable(xavier_init([Z_dim, 128]))\n",
        "G_b1 = tf.Variable(tf.zeros(shape=[128]))\n",
        "\n",
        "G_W2 = tf.Variable(xavier_init([128, X_dim]))\n",
        "G_b2 = tf.Variable(tf.zeros(shape=[X_dim]))\n",
        "\n",
        "theta_G = [G_W1, G_W2, G_b1, G_b2]"
      ]
    },
    {
      "cell_type": "code",
      "execution_count": 15,
      "metadata": {
        "id": "mIjKz4MwEj1x"
      },
      "outputs": [],
      "source": [
        "def generator(z):\n",
        "    G_h1 = tf.nn.relu(tf.matmul(z, G_W1) + G_b1)\n",
        "    G_log_prob = tf.matmul(G_h1, G_W2) + G_b2\n",
        "    G_prob = tf.nn.sigmoid(G_log_prob)\n",
        "\n",
        "    return G_prob"
      ]
    },
    {
      "cell_type": "code",
      "execution_count": 16,
      "metadata": {
        "id": "bWImNLv-Ej1y"
      },
      "outputs": [],
      "source": [
        "def discriminator(x,c):\n",
        "\n",
        "    D_h1 = tf.nn.relu(tf.matmul(tf.concat([x,c],1), D_W1) + D_b1)\n",
        "    D_logit = tf.matmul(D_h1, D_W2) + D_b2\n",
        "    D_prob = tf.nn.sigmoid(D_logit)\n",
        "\n",
        "    return D_prob, D_logit"
      ]
    },
    {
      "cell_type": "code",
      "execution_count": 17,
      "metadata": {
        "id": "tI8yFjDWEj1y"
      },
      "outputs": [],
      "source": [
        "def plot(samples):\n",
        "    fig = plt.figure(figsize=(4, 4))\n",
        "    gs = gridspec.GridSpec(4, 4)\n",
        "    gs.update(wspace=0.05, hspace=0.05)\n",
        "\n",
        "    for i, sample in enumerate(samples):\n",
        "        ax = plt.subplot(gs[i])\n",
        "        plt.axis('off')\n",
        "        ax.set_xticklabels([])\n",
        "        ax.set_yticklabels([])\n",
        "        ax.set_aspect('equal')\n",
        "\n",
        "        plt.imshow(sample.reshape(78, 30), cmap='Greys_r')\n",
        "\n",
        "\n",
        "    return fig"
      ]
    },
    {
      "cell_type": "code",
      "execution_count": 18,
      "metadata": {
        "id": "P8CrxuCaEj1z"
      },
      "outputs": [],
      "source": [
        "G_sample = generator(Z)"
      ]
    },
    {
      "cell_type": "code",
      "execution_count": 19,
      "metadata": {
        "id": "kjJ7f5I-Ej10"
      },
      "outputs": [],
      "source": [
        "D_real, D_logit_real = discriminator(X,Z)"
      ]
    },
    {
      "cell_type": "code",
      "execution_count": 20,
      "metadata": {
        "id": "n8992jJOEj10"
      },
      "outputs": [],
      "source": [
        "D_fake, D_logit_fake = discriminator(G_sample,Z)"
      ]
    },
    {
      "cell_type": "markdown",
      "metadata": {
        "id": "dh8fl0XfWYEF"
      },
      "source": [
        "##### Question 3 [10 points]\n",
        "In standard GAN, the discriminator receives as input true or fake (generated) data only. Explain why in our case the disrciminator receives as input both the data and an additional variable Z? How this Z differs from the usual GAN input of a random vector?"
      ]
    },
    {
      "cell_type": "markdown",
      "metadata": {
        "id": "k7IG3GowWYEF"
      },
      "source": [
        "This is different from a standard GAN discriminator because it's conditional - it doesn't just try to determine if the input is real or fake, but also checks if it matches the given chroma features. This helps ensure the generated music maintains the harmonic structure specified by the chroma input.\n",
        "The discriminator is essentially learning to identify not just realistic music, but realistic music that properly corresponds to the given chroma features."
      ]
    },
    {
      "cell_type": "code",
      "execution_count": 21,
      "metadata": {
        "id": "tcYoVloPEj10"
      },
      "outputs": [],
      "source": [
        "\n",
        "# Alternative losses:\n",
        "# -------------------\n",
        "Lambda = 100\n",
        "D_loss_real = tf.reduce_mean(tf.nn.sigmoid_cross_entropy_with_logits(logits=D_logit_real, labels=tf.ones_like(D_logit_real)))\n",
        "D_loss_fake = tf.reduce_mean(tf.nn.sigmoid_cross_entropy_with_logits(logits=D_logit_fake, labels=tf.zeros_like(D_logit_fake)))\n",
        "D_loss = D_loss_real + D_loss_fake\n",
        "G_loss_fake = tf.reduce_mean(tf.nn.sigmoid_cross_entropy_with_logits(logits=D_logit_fake, labels=tf.ones_like(D_logit_fake)))\n",
        "G_loss_L1 = tf.reduce_mean(tf.losses.mean_squared_error(X,G_sample))\n",
        "G_loss = G_loss_fake + Lambda*G_loss_L1"
      ]
    },
    {
      "cell_type": "markdown",
      "metadata": {
        "id": "gXhwRKjdWYEF"
      },
      "source": [
        "##### Question 4 [10 points]\n",
        "Explain the two components of the discriminator loss in the D_loss expression. Why the real loss uses tf.ones_like andthe fake loss uses tf.zeros_like in the cross entory loss? What are the statistical distributions (which datasets are used) in computational of the real and fake losses. In your answers you may either include an equation image or write the loss equaiton in latex mathamtical notation inside Markdown cell."
      ]
    },
    {
      "cell_type": "markdown",
      "metadata": {
        "id": "qHQeph5cWYEF"
      },
      "source": [
        "### Discriminator Loss Components\n",
        "\n",
        "D_loss_real - its the real data componenet and we use one_like because we want to maximize the probability of correctly identifying real samples (output close to 1)\n",
        "D_loss_fake - This component handles generated/fake samples. and we use zero_like because we want to minimize the probability of being fooled by generated samples (output close to 0) "
      ]
    },
    {
      "cell_type": "markdown",
      "metadata": {
        "id": "aiUKc6qaWYEG"
      },
      "source": [
        "##### Question 5 [10 points]\n",
        "In the generator loss G_loss we add an L1 loss. What does it represent? Why do you think we might want to add the L1 loss to the GAN model? We will explore this question further down the assignment, so at this point write down your best explanation based on the equations themselves without running any experiments."
      ]
    },
    {
      "cell_type": "markdown",
      "metadata": {
        "id": "mGnjeFAZWYEG"
      },
      "source": [
        "The G loss includes an L1 loss term, which measures the mean squared error between the real data X and the generated data G sample. This ensures that the generator not only fools the discriminator but also produces outputs that closely resemble the real data in terms of structure and content. Adding the L1 loss helps \"guide\" the generator toward generating samples that are realistic and aligned with the true data distribution, rather than just optimizing to fool the discriminator."
      ]
    },
    {
      "cell_type": "code",
      "execution_count": 22,
      "metadata": {
        "id": "Oc9zTKiEEj11"
      },
      "outputs": [],
      "source": [
        "#optimizing functions\n",
        "D_solver = tf.train.AdamOptimizer().minimize(D_loss, var_list=theta_D)\n",
        "G_solver = tf.train.AdamOptimizer().minimize(G_loss, var_list=theta_G)"
      ]
    },
    {
      "cell_type": "code",
      "execution_count": 23,
      "metadata": {
        "id": "V_yjcm__Ej11"
      },
      "outputs": [],
      "source": [
        "#output midi file folder\n",
        "if not os.path.exists('out/'):\n",
        "    os.makedirs('out/')"
      ]
    },
    {
      "cell_type": "code",
      "execution_count": 24,
      "metadata": {
        "id": "wMfONb8gEj11"
      },
      "outputs": [
        {
          "name": "stderr",
          "output_type": "stream",
          "text": [
            "WARNING: All log messages before absl::InitializeLog() is called are written to STDERR\n",
            "I0000 00:00:1737538737.061637 111630365 mlir_graph_optimization_pass.cc:401] MLIR V1 optimization pass is not enabled\n"
          ]
        }
      ],
      "source": [
        "sess = tf.Session()\n",
        "sess.run(tf.global_variables_initializer())"
      ]
    },
    {
      "cell_type": "markdown",
      "metadata": {
        "id": "AI2HBr6YGzkM"
      },
      "source": [
        "# 3. Training GAN Model"
      ]
    },
    {
      "cell_type": "code",
      "execution_count": 25,
      "metadata": {
        "id": "FZBAHllDEj11",
        "scrolled": false
      },
      "outputs": [
        {
          "name": "stdout",
          "output_type": "stream",
          "text": [
            "Iter: 0\n",
            "D_Loss: 1.22\n",
            "G_Loss: 32.27\n",
            "Iter: 1000\n",
            "D_Loss: 0.1158\n",
            "G_Loss: 5.528\n",
            "Iter: 2000\n",
            "D_Loss: 0.02594\n",
            "G_Loss: 7.597\n",
            "Iter: 3000\n",
            "D_Loss: 0.0003483\n",
            "G_Loss: 18.34\n",
            "Iter: 4000\n",
            "D_Loss: 0.000237\n",
            "G_Loss: 18.82\n",
            "Iter: 5000\n",
            "D_Loss: 0.2393\n",
            "G_Loss: 9.069\n",
            "Iter: 6000\n",
            "D_Loss: 0.0004441\n",
            "G_Loss: 19.33\n",
            "Iter: 7000\n",
            "D_Loss: 7.651e-05\n",
            "G_Loss: 17.02\n",
            "Iter: 8000\n",
            "D_Loss: 0.00119\n",
            "G_Loss: 12.14\n",
            "Iter: 9000\n",
            "D_Loss: 0.0002839\n",
            "G_Loss: 20.39\n",
            "Iter: 10000\n",
            "D_Loss: 3.257e-05\n",
            "G_Loss: 23.22\n",
            "Iter: 11000\n",
            "D_Loss: 9.201e-06\n",
            "G_Loss: 19.77\n",
            "Iter: 12000\n",
            "D_Loss: 1.698e-05\n",
            "G_Loss: 29.59\n",
            "Iter: 13000\n",
            "D_Loss: 1.526e-05\n",
            "G_Loss: 23.87\n",
            "Iter: 14000\n",
            "D_Loss: 2.003e-06\n",
            "G_Loss: 25.09\n",
            "Iter: 15000\n",
            "D_Loss: 1.265e-06\n",
            "G_Loss: 24.96\n",
            "Iter: 16000\n",
            "D_Loss: 0.0006578\n",
            "G_Loss: 22.96\n",
            "Iter: 17000\n",
            "D_Loss: 4.536e-08\n",
            "G_Loss: 27.56\n",
            "Iter: 18000\n",
            "D_Loss: 6.117e-08\n",
            "G_Loss: 30.48\n",
            "Iter: 19000\n",
            "D_Loss: 2.813e-08\n",
            "G_Loss: 32.1\n",
            "Iter: 20000\n",
            "D_Loss: 1.388e-07\n",
            "G_Loss: 33.47\n",
            "Iter: 21000\n",
            "D_Loss: 6.465e-10\n",
            "G_Loss: 32.86\n",
            "Iter: 22000\n",
            "D_Loss: 5.45e-09\n",
            "G_Loss: 40.08\n",
            "Iter: 23000\n",
            "D_Loss: 1.489e-08\n",
            "G_Loss: 46.17\n",
            "Iter: 24000\n",
            "D_Loss: 7.027e-09\n",
            "G_Loss: 54.6\n",
            "Iter: 25000\n",
            "D_Loss: 5.273e-09\n",
            "G_Loss: 29.27\n",
            "Iter: 26000\n",
            "D_Loss: 2.637e-08\n",
            "G_Loss: 22.65\n",
            "Iter: 27000\n",
            "D_Loss: 1.006e-07\n",
            "G_Loss: 27.79\n",
            "Iter: 28000\n",
            "D_Loss: 4.199e-12\n",
            "G_Loss: 36.09\n",
            "Iter: 29000\n",
            "D_Loss: 7.621e-10\n",
            "G_Loss: 30.92\n",
            "Iter: 30000\n",
            "D_Loss: 6.533e-11\n",
            "G_Loss: 33.91\n",
            "Iter: 31000\n",
            "D_Loss: 4.501e-11\n",
            "G_Loss: 32.48\n",
            "Iter: 32000\n",
            "D_Loss: 4.209e-10\n",
            "G_Loss: 35.03\n",
            "Iter: 33000\n",
            "D_Loss: 9.977e-09\n",
            "G_Loss: 33.66\n",
            "Iter: 34000\n",
            "D_Loss: 2.266e-11\n",
            "G_Loss: 38.59\n",
            "Iter: 35000\n",
            "D_Loss: 9.808e-10\n",
            "G_Loss: 50.41\n",
            "Iter: 36000\n",
            "D_Loss: 2.34e-11\n",
            "G_Loss: 35.18\n",
            "Iter: 37000\n",
            "D_Loss: 4.123e-10\n",
            "G_Loss: 31.61\n",
            "Iter: 38000\n",
            "D_Loss: 3.905e-12\n",
            "G_Loss: 34.19\n",
            "Iter: 39000\n",
            "D_Loss: 1.466e-09\n",
            "G_Loss: 28.87\n",
            "Iter: 40000\n",
            "D_Loss: 4.027e-11\n",
            "G_Loss: 32.73\n",
            "Iter: 41000\n",
            "D_Loss: 3.543e-11\n",
            "G_Loss: 33.52\n",
            "Iter: 42000\n",
            "D_Loss: 1.004e-09\n",
            "G_Loss: 30.22\n",
            "Iter: 43000\n",
            "D_Loss: 2.336e-09\n",
            "G_Loss: 33.44\n",
            "Iter: 44000\n",
            "D_Loss: 7.094e-11\n",
            "G_Loss: 45.19\n",
            "Iter: 45000\n",
            "D_Loss: 1.599e-15\n",
            "G_Loss: 53.52\n",
            "Iter: 46000\n",
            "D_Loss: 8.017e-12\n",
            "G_Loss: 42.39\n"
          ]
        },
        {
          "ename": "KeyboardInterrupt",
          "evalue": "",
          "output_type": "error",
          "traceback": [
            "\u001b[0;31m---------------------------------------------------------------------------\u001b[0m",
            "\u001b[0;31mKeyboardInterrupt\u001b[0m                         Traceback (most recent call last)",
            "Cell \u001b[0;32mIn[25], line 26\u001b[0m\n\u001b[1;32m     24\u001b[0m ch \u001b[38;5;241m=\u001b[39m chroma[ind:ind\u001b[38;5;241m+\u001b[39mbatch_size]\n\u001b[1;32m     25\u001b[0m _, D_loss_curr \u001b[38;5;241m=\u001b[39m sess\u001b[38;5;241m.\u001b[39mrun([D_solver, D_loss], feed_dict\u001b[38;5;241m=\u001b[39m{X: X_mb, Z: ch})\n\u001b[0;32m---> 26\u001b[0m _, G_loss_curr \u001b[38;5;241m=\u001b[39m \u001b[43msess\u001b[49m\u001b[38;5;241;43m.\u001b[39;49m\u001b[43mrun\u001b[49m\u001b[43m(\u001b[49m\u001b[43m[\u001b[49m\u001b[43mG_solver\u001b[49m\u001b[43m,\u001b[49m\u001b[43m \u001b[49m\u001b[43mG_loss\u001b[49m\u001b[43m]\u001b[49m\u001b[43m,\u001b[49m\u001b[43m \u001b[49m\u001b[43mfeed_dict\u001b[49m\u001b[38;5;241;43m=\u001b[39;49m\u001b[43m{\u001b[49m\u001b[43mX\u001b[49m\u001b[43m:\u001b[49m\u001b[43m \u001b[49m\u001b[43mX_mb\u001b[49m\u001b[43m,\u001b[49m\u001b[43m \u001b[49m\u001b[43mZ\u001b[49m\u001b[43m:\u001b[49m\u001b[43m \u001b[49m\u001b[43mch\u001b[49m\u001b[43m}\u001b[49m\u001b[43m)\u001b[49m\n\u001b[1;32m     28\u001b[0m \u001b[38;5;28;01mif\u001b[39;00m i \u001b[38;5;241m%\u001b[39m \u001b[38;5;241m1000\u001b[39m \u001b[38;5;241m==\u001b[39m \u001b[38;5;241m0\u001b[39m:\n\u001b[1;32m     29\u001b[0m     \u001b[38;5;28mprint\u001b[39m(\u001b[38;5;124m'\u001b[39m\u001b[38;5;124mIter: \u001b[39m\u001b[38;5;132;01m{}\u001b[39;00m\u001b[38;5;124m'\u001b[39m\u001b[38;5;241m.\u001b[39mformat(i))\n",
            "File \u001b[0;32m~/.pyenv/versions/audio_exc4/lib/python3.12/site-packages/tensorflow/python/client/session.py:977\u001b[0m, in \u001b[0;36mBaseSession.run\u001b[0;34m(self, fetches, feed_dict, options, run_metadata)\u001b[0m\n\u001b[1;32m    974\u001b[0m run_metadata_ptr \u001b[38;5;241m=\u001b[39m tf_session\u001b[38;5;241m.\u001b[39mTF_NewBuffer() \u001b[38;5;28;01mif\u001b[39;00m run_metadata \u001b[38;5;28;01melse\u001b[39;00m \u001b[38;5;28;01mNone\u001b[39;00m\n\u001b[1;32m    976\u001b[0m \u001b[38;5;28;01mtry\u001b[39;00m:\n\u001b[0;32m--> 977\u001b[0m   result \u001b[38;5;241m=\u001b[39m \u001b[38;5;28;43mself\u001b[39;49m\u001b[38;5;241;43m.\u001b[39;49m\u001b[43m_run\u001b[49m\u001b[43m(\u001b[49m\u001b[38;5;28;43;01mNone\u001b[39;49;00m\u001b[43m,\u001b[49m\u001b[43m \u001b[49m\u001b[43mfetches\u001b[49m\u001b[43m,\u001b[49m\u001b[43m \u001b[49m\u001b[43mfeed_dict\u001b[49m\u001b[43m,\u001b[49m\u001b[43m \u001b[49m\u001b[43moptions_ptr\u001b[49m\u001b[43m,\u001b[49m\n\u001b[1;32m    978\u001b[0m \u001b[43m                     \u001b[49m\u001b[43mrun_metadata_ptr\u001b[49m\u001b[43m)\u001b[49m\n\u001b[1;32m    979\u001b[0m   \u001b[38;5;28;01mif\u001b[39;00m run_metadata:\n\u001b[1;32m    980\u001b[0m     proto_data \u001b[38;5;241m=\u001b[39m tf_session\u001b[38;5;241m.\u001b[39mTF_GetBuffer(run_metadata_ptr)\n",
            "File \u001b[0;32m~/.pyenv/versions/audio_exc4/lib/python3.12/site-packages/tensorflow/python/client/session.py:1220\u001b[0m, in \u001b[0;36mBaseSession._run\u001b[0;34m(self, handle, fetches, feed_dict, options, run_metadata)\u001b[0m\n\u001b[1;32m   1217\u001b[0m \u001b[38;5;66;03m# We only want to really perform the run if fetches or targets are provided,\u001b[39;00m\n\u001b[1;32m   1218\u001b[0m \u001b[38;5;66;03m# or if the call is a partial run that specifies feeds.\u001b[39;00m\n\u001b[1;32m   1219\u001b[0m \u001b[38;5;28;01mif\u001b[39;00m final_fetches \u001b[38;5;129;01mor\u001b[39;00m final_targets \u001b[38;5;129;01mor\u001b[39;00m (handle \u001b[38;5;129;01mand\u001b[39;00m feed_dict_tensor):\n\u001b[0;32m-> 1220\u001b[0m   results \u001b[38;5;241m=\u001b[39m \u001b[38;5;28;43mself\u001b[39;49m\u001b[38;5;241;43m.\u001b[39;49m\u001b[43m_do_run\u001b[49m\u001b[43m(\u001b[49m\u001b[43mhandle\u001b[49m\u001b[43m,\u001b[49m\u001b[43m \u001b[49m\u001b[43mfinal_targets\u001b[49m\u001b[43m,\u001b[49m\u001b[43m \u001b[49m\u001b[43mfinal_fetches\u001b[49m\u001b[43m,\u001b[49m\n\u001b[1;32m   1221\u001b[0m \u001b[43m                         \u001b[49m\u001b[43mfeed_dict_tensor\u001b[49m\u001b[43m,\u001b[49m\u001b[43m \u001b[49m\u001b[43moptions\u001b[49m\u001b[43m,\u001b[49m\u001b[43m \u001b[49m\u001b[43mrun_metadata\u001b[49m\u001b[43m)\u001b[49m\n\u001b[1;32m   1222\u001b[0m \u001b[38;5;28;01melse\u001b[39;00m:\n\u001b[1;32m   1223\u001b[0m   results \u001b[38;5;241m=\u001b[39m []\n",
            "File \u001b[0;32m~/.pyenv/versions/audio_exc4/lib/python3.12/site-packages/tensorflow/python/client/session.py:1400\u001b[0m, in \u001b[0;36mBaseSession._do_run\u001b[0;34m(self, handle, target_list, fetch_list, feed_dict, options, run_metadata)\u001b[0m\n\u001b[1;32m   1397\u001b[0m   \u001b[38;5;28;01mreturn\u001b[39;00m \u001b[38;5;28mself\u001b[39m\u001b[38;5;241m.\u001b[39m_call_tf_sessionprun(handle, feed_dict, fetch_list)\n\u001b[1;32m   1399\u001b[0m \u001b[38;5;28;01mif\u001b[39;00m handle \u001b[38;5;129;01mis\u001b[39;00m \u001b[38;5;28;01mNone\u001b[39;00m:\n\u001b[0;32m-> 1400\u001b[0m   \u001b[38;5;28;01mreturn\u001b[39;00m \u001b[38;5;28;43mself\u001b[39;49m\u001b[38;5;241;43m.\u001b[39;49m\u001b[43m_do_call\u001b[49m\u001b[43m(\u001b[49m\u001b[43m_run_fn\u001b[49m\u001b[43m,\u001b[49m\u001b[43m \u001b[49m\u001b[43mfeeds\u001b[49m\u001b[43m,\u001b[49m\u001b[43m \u001b[49m\u001b[43mfetches\u001b[49m\u001b[43m,\u001b[49m\u001b[43m \u001b[49m\u001b[43mtargets\u001b[49m\u001b[43m,\u001b[49m\u001b[43m \u001b[49m\u001b[43moptions\u001b[49m\u001b[43m,\u001b[49m\n\u001b[1;32m   1401\u001b[0m \u001b[43m                       \u001b[49m\u001b[43mrun_metadata\u001b[49m\u001b[43m)\u001b[49m\n\u001b[1;32m   1402\u001b[0m \u001b[38;5;28;01melse\u001b[39;00m:\n\u001b[1;32m   1403\u001b[0m   \u001b[38;5;28;01mreturn\u001b[39;00m \u001b[38;5;28mself\u001b[39m\u001b[38;5;241m.\u001b[39m_do_call(_prun_fn, handle, feeds, fetches)\n",
            "File \u001b[0;32m~/.pyenv/versions/audio_exc4/lib/python3.12/site-packages/tensorflow/python/client/session.py:1407\u001b[0m, in \u001b[0;36mBaseSession._do_call\u001b[0;34m(self, fn, *args)\u001b[0m\n\u001b[1;32m   1405\u001b[0m \u001b[38;5;28;01mdef\u001b[39;00m\u001b[38;5;250m \u001b[39m\u001b[38;5;21m_do_call\u001b[39m(\u001b[38;5;28mself\u001b[39m, fn, \u001b[38;5;241m*\u001b[39margs):\n\u001b[1;32m   1406\u001b[0m   \u001b[38;5;28;01mtry\u001b[39;00m:\n\u001b[0;32m-> 1407\u001b[0m     \u001b[38;5;28;01mreturn\u001b[39;00m \u001b[43mfn\u001b[49m\u001b[43m(\u001b[49m\u001b[38;5;241;43m*\u001b[39;49m\u001b[43margs\u001b[49m\u001b[43m)\u001b[49m\n\u001b[1;32m   1408\u001b[0m   \u001b[38;5;28;01mexcept\u001b[39;00m errors\u001b[38;5;241m.\u001b[39mOpError \u001b[38;5;28;01mas\u001b[39;00m e:\n\u001b[1;32m   1409\u001b[0m     message \u001b[38;5;241m=\u001b[39m compat\u001b[38;5;241m.\u001b[39mas_text(e\u001b[38;5;241m.\u001b[39mmessage)\n",
            "File \u001b[0;32m~/.pyenv/versions/audio_exc4/lib/python3.12/site-packages/tensorflow/python/client/session.py:1390\u001b[0m, in \u001b[0;36mBaseSession._do_run.<locals>._run_fn\u001b[0;34m(feed_dict, fetch_list, target_list, options, run_metadata)\u001b[0m\n\u001b[1;32m   1387\u001b[0m \u001b[38;5;28;01mdef\u001b[39;00m\u001b[38;5;250m \u001b[39m\u001b[38;5;21m_run_fn\u001b[39m(feed_dict, fetch_list, target_list, options, run_metadata):\n\u001b[1;32m   1388\u001b[0m   \u001b[38;5;66;03m# Ensure any changes to the graph are reflected in the runtime.\u001b[39;00m\n\u001b[1;32m   1389\u001b[0m   \u001b[38;5;28mself\u001b[39m\u001b[38;5;241m.\u001b[39m_extend_graph()\n\u001b[0;32m-> 1390\u001b[0m   \u001b[38;5;28;01mreturn\u001b[39;00m \u001b[38;5;28;43mself\u001b[39;49m\u001b[38;5;241;43m.\u001b[39;49m\u001b[43m_call_tf_sessionrun\u001b[49m\u001b[43m(\u001b[49m\u001b[43moptions\u001b[49m\u001b[43m,\u001b[49m\u001b[43m \u001b[49m\u001b[43mfeed_dict\u001b[49m\u001b[43m,\u001b[49m\u001b[43m \u001b[49m\u001b[43mfetch_list\u001b[49m\u001b[43m,\u001b[49m\n\u001b[1;32m   1391\u001b[0m \u001b[43m                                  \u001b[49m\u001b[43mtarget_list\u001b[49m\u001b[43m,\u001b[49m\u001b[43m \u001b[49m\u001b[43mrun_metadata\u001b[49m\u001b[43m)\u001b[49m\n",
            "File \u001b[0;32m~/.pyenv/versions/audio_exc4/lib/python3.12/site-packages/tensorflow/python/client/session.py:1483\u001b[0m, in \u001b[0;36mBaseSession._call_tf_sessionrun\u001b[0;34m(self, options, feed_dict, fetch_list, target_list, run_metadata)\u001b[0m\n\u001b[1;32m   1481\u001b[0m \u001b[38;5;28;01mdef\u001b[39;00m\u001b[38;5;250m \u001b[39m\u001b[38;5;21m_call_tf_sessionrun\u001b[39m(\u001b[38;5;28mself\u001b[39m, options, feed_dict, fetch_list, target_list,\n\u001b[1;32m   1482\u001b[0m                         run_metadata):\n\u001b[0;32m-> 1483\u001b[0m   \u001b[38;5;28;01mreturn\u001b[39;00m \u001b[43mtf_session\u001b[49m\u001b[38;5;241;43m.\u001b[39;49m\u001b[43mTF_SessionRun_wrapper\u001b[49m\u001b[43m(\u001b[49m\u001b[38;5;28;43mself\u001b[39;49m\u001b[38;5;241;43m.\u001b[39;49m\u001b[43m_session\u001b[49m\u001b[43m,\u001b[49m\u001b[43m \u001b[49m\u001b[43moptions\u001b[49m\u001b[43m,\u001b[49m\u001b[43m \u001b[49m\u001b[43mfeed_dict\u001b[49m\u001b[43m,\u001b[49m\n\u001b[1;32m   1484\u001b[0m \u001b[43m                                          \u001b[49m\u001b[43mfetch_list\u001b[49m\u001b[43m,\u001b[49m\u001b[43m \u001b[49m\u001b[43mtarget_list\u001b[49m\u001b[43m,\u001b[49m\n\u001b[1;32m   1485\u001b[0m \u001b[43m                                          \u001b[49m\u001b[43mrun_metadata\u001b[49m\u001b[43m)\u001b[49m\n",
            "\u001b[0;31mKeyboardInterrupt\u001b[0m: "
          ]
        }
      ],
      "source": [
        "i = 0\n",
        "num_epochs = 200000\n",
        "batch_size = 100\n",
        "S_cutoff = 0.5\n",
        "#commented out print statements output different losses, and plotting functions plot the piano roll and chroma.\n",
        "while i <= num_epochs:\n",
        "    # for song, chroma in zip(songs, chromas):\n",
        "    for files in songs:\n",
        "        song = songs[files]['song']\n",
        "        chroma = songs[files]['chroma']\n",
        "        # The songs are stored in a time x notes format. The size of each song is timesteps_in_song x 2*note_range\n",
        "        # Here we reshape the songs so that each training example is a vector with num_timesteps x 2*note_range elements\n",
        "        song = np.array(song)\n",
        "        song_steps = np.floor(song.shape[0]/num_timesteps).astype(int)\n",
        "        song = song[:song_steps*num_timesteps]\n",
        "        song = np.reshape(song, [song_steps, song.shape[1]*num_timesteps])\n",
        "        chroma = np.array(chroma)\n",
        "        chroma = chroma[:song_steps*num_timesteps]\n",
        "        chroma = np.reshape(chroma, [song_steps, chroma.shape[1]*num_timesteps])\n",
        "        batch_size = min(batch_size,len(song))\n",
        "        # Train the RBM on batch_size examples at a time\n",
        "        for ind in range(0, len(song), batch_size):\n",
        "            X_mb = song[ind:ind+batch_size]\n",
        "            ch = chroma[ind:ind+batch_size]\n",
        "            _, D_loss_curr = sess.run([D_solver, D_loss], feed_dict={X: X_mb, Z: ch})\n",
        "            _, G_loss_curr = sess.run([G_solver, G_loss], feed_dict={X: X_mb, Z: ch})\n",
        "\n",
        "            if i % 1000 == 0:\n",
        "                print('Iter: {}'.format(i))\n",
        "                dloss = ('D_Loss: {:.4}'. format(D_loss_curr))\n",
        "                gloss = ('G_Loss: {:.4}'. format(G_loss_curr))\n",
        "                print(dloss)\n",
        "                print(gloss)\n",
        "\n",
        "                samples = sess.run(G_sample, feed_dict={Z: ch})\n",
        "\n",
        "                S = np.reshape(samples, (ch.shape[0]*num_timesteps, 2*note_range))\n",
        "                thresh_S = S>=S_cutoff\n",
        "\n",
        "                thresh_S = np.transpose(thresh_S)\n",
        "\n",
        "\n",
        "                C = np.reshape(ch, (ch.shape[0]*num_timesteps, 12))\n",
        "\n",
        "                test = reverse_pianoroll.piano_roll_to_pretty_midi(convert.back(thresh_S), fs=16)\n",
        "                test.write('out/{}.mid'.format(i))\n",
        "\n",
        "            i += 1"
      ]
    },
    {
      "cell_type": "markdown",
      "metadata": {
        "id": "m9svDngpHzty"
      },
      "source": [
        "# 4. Style Transfer with a New Genre Dataset"
      ]
    },
    {
      "cell_type": "markdown",
      "metadata": {
        "id": "O12p-OvfWYEI"
      },
      "source": [
        "In this part we will explore using the trained GAN to compose new music according to the harmonic structure of another musical input. In a way this comprises of a style transfer between the input music that belongs to style A and the output music that is generated using GAN trained on style B. In the example we will used J.S.Bach as our input (Style A) and output music in Mozart's style that was use to train our GAN (Style B). The new Mozart piece should follow the harmonic structure (chord progressions) of the Bach input."
      ]
    },
    {
      "cell_type": "code",
      "execution_count": 32,
      "metadata": {
        "id": "SSzNXQleEj13",
        "outputId": "6d117973-ae1e-4be4-c2d7-77aba8ea94d2"
      },
      "outputs": [
        {
          "name": "stdout",
          "output_type": "stream",
          "text": [
            "3 songs processed\n",
            "3 chromas processed\n"
          ]
        }
      ],
      "source": [
        "#for testing, we will be using a different composer dataset to input into the generator here.\n",
        "test_song = get_songs(\"./content/Classical_Music_Midi/bach\")\n",
        "test_song = add_chromas(test_song)\n",
        "\n",
        "print (\"{} songs processed\".format(len(['song' in test_song[f] for f in test_song])))\n",
        "print (\"{} chromas processed\".format(len(['chroma' in test_song[f] for f in test_song])))"
      ]
    },
    {
      "cell_type": "code",
      "execution_count": 33,
      "metadata": {
        "id": "g-lb4wigiXTm"
      },
      "outputs": [],
      "source": [
        "#converted midi file folder\n",
        "if not os.path.exists('converted/'):\n",
        "    os.makedirs('converted/')"
      ]
    },
    {
      "cell_type": "code",
      "execution_count": 34,
      "metadata": {
        "id": "R1yURaYKEj14"
      },
      "outputs": [],
      "source": [
        "i = 0\n",
        "S_cutoff = 0.5\n",
        "\n",
        "# for i,c in enumerate(test_chromaz):\n",
        "for song in test_song:\n",
        "    test_chroma = np.array(test_song[song]['chroma'])\n",
        "\n",
        "    test_chroma = test_chroma[:np.floor(test_chroma.shape[0]/num_timesteps).astype(int)*num_timesteps]\n",
        "    test_chroma = np.reshape(test_chroma, [int(test_chroma.shape[0]/num_timesteps), test_chroma.shape[1]*num_timesteps])\n",
        "\n",
        "    out_samples = sess.run(G_sample, feed_dict={Z: test_chroma})\n",
        "\n",
        "    S = np.reshape(out_samples, (np.floor(out_samples.shape[0]*out_samples.shape[1]/2/note_range).astype(int), 2*note_range))\n",
        "    C = np.reshape(test_chroma, (test_chroma.shape[0]*num_timesteps, 12))\n",
        "\n",
        "    thresh_S = S>=S_cutoff\n",
        "    thresh_S = np.transpose(thresh_S)\n",
        "\n",
        "    test = reverse_pianoroll.piano_roll_to_pretty_midi(convert.back(thresh_S), fs=16)\n",
        "    test_song[song]['generated'] = test\n",
        "    test.write('converted/{}.mid'.format(song.split('/')[-1].split('.')[0]+\"generated\"))\n",
        "\n"
      ]
    },
    {
      "cell_type": "markdown",
      "metadata": {
        "id": "mecEOik9WYEI"
      },
      "source": [
        "##### Question 6 [10 points]\n",
        "Open the conversion results in a musical MIDI software (such as Musescore) and observe/listen to the results. Write down your impressions about the quality of the musical texture style transfer - did the harmonic structure follow the Bach input? How did the notes distribution (choice of pitches and durations) change relative to the original Bach piece? Does the S_cutoff parameter affect the outcome, and if so, how?\n",
        "\n",
        "Summarize your findings and suggest some conclusions. Can you point to any musical aspects that were poorly modeled and ideas of improvement?"
      ]
    },
    {
      "cell_type": "markdown",
      "metadata": {
        "id": "emLJzZ0JWYEJ"
      },
      "source": [
        "``` your response here ```"
      ]
    },
    {
      "cell_type": "markdown",
      "metadata": {
        "id": "zfiNHssBWYEJ"
      },
      "source": [
        "# 5. Further experiments"
      ]
    },
    {
      "cell_type": "markdown",
      "metadata": {
        "id": "N9N-BA73WYEJ"
      },
      "source": [
        "##### Question 7 & 8: [total 30 points]\n",
        "\n",
        "Choose two of the experiments and report their results:\n",
        "\n",
        "1. Explore style transfer between more distant styles: For this purpose you may use the Pop_Music_Midi dataset and repeat the Style Transfer Experiment between Classical and Pop music (and vice versa). Report your findings in qualitative ways and submit the midi results together with your explanation. [20 Points]\n",
        "\n",
        "2. Expermment with L1 distance: retrain the GAN model with very small and very large Lambda. What are the effects of such changes? When is the texture of the output more or less musical? Are the harmonic progressions of the input followed or ignored? Any other observations? [20 Points]\n",
        "\n",
        "3. Create your own song: use the leadsheet2chroma.py file provided to create a Mozart style composition from your own leadsheet input. Provide the leadsheet in text format and the midi file results. Report your observations about the musical quality of the results. You may alter the leadsheet2chroma.py to fit other chords if you wish, or train GAN in a style different then Mozart. [20 Points]\n",
        "\n"
      ]
    },
    {
      "cell_type": "markdown",
      "metadata": {
        "id": "qHmu1PDiIP97"
      },
      "source": [
        "``` your response here ```"
      ]
    },
    {
      "cell_type": "markdown",
      "metadata": {
        "id": "LLxi0zt_HoZF"
      },
      "source": [
        "##### Question 9 [20 points]\n",
        "\n",
        "Please record a 2-5 minute video of yourself explaining questions 1 to 7.\n",
        "\n",
        "If you are shy (or have a bad hairday) you can use filters to augment or cover your face. Please submit it as a public google drive url."
      ]
    },
    {
      "cell_type": "markdown",
      "metadata": {
        "id": "SjrtXvLyIUxo"
      },
      "source": [
        "``` your response here ```"
      ]
    }
  ],
  "metadata": {
    "colab": {
      "provenance": []
    },
    "kernelspec": {
      "display_name": "audio_exc4",
      "language": "python",
      "name": "python3"
    },
    "language_info": {
      "codemirror_mode": {
        "name": "ipython",
        "version": 3
      },
      "file_extension": ".py",
      "mimetype": "text/x-python",
      "name": "python",
      "nbconvert_exporter": "python",
      "pygments_lexer": "ipython3",
      "version": "3.12.7"
    }
  },
  "nbformat": 4,
  "nbformat_minor": 0
}
