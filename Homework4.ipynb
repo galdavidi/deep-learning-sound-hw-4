{
  "cells": [
    {
      "cell_type": "markdown",
      "metadata": {
        "id": "mwqtbpw7WYDw"
      },
      "source": [
        "#### Student Name:\n",
        "#### Student ID:"
      ]
    },
    {
      "cell_type": "markdown",
      "metadata": {
        "id": "eK-fy4cmWYD1"
      },
      "source": [
        "# Overview\n",
        "### Due Jan 25th\n",
        "\n",
        "### GAN, chroma (MIDI) and pix2pix\n",
        "\n",
        "Instructions:\n",
        "\n",
        "* This notebook is an interactive assignment; please read and follow the instructions in each cell.\n",
        "\n",
        "* Cells that require your input (in the form of code or written response) will have 'Question #' above.\n",
        "\n",
        "* After completing the assignment, please submit this notebook and printout as a PDF.\n"
      ]
    },
    {
      "cell_type": "code",
      "execution_count": null,
      "metadata": {
        "id": "wkG3YX39I6u1"
      },
      "outputs": [],
      "source": [
        "# If you're collaboraing with a classmate, please fill in the following:\n",
        "\n",
        "collaboration = {\n",
        "    \"PLACE YOUR STUDENT ID HERE\" : \"PLACE YOUR COLLABORATOR'S STUDENT ID HERE\"\n",
        "}"
      ]
    },
    {
      "cell_type": "markdown",
      "metadata": {
        "id": "2mUtlgRDWYD3"
      },
      "source": [
        "In this notebook we explore a style transfer application that tries to change the musical texture of a piece while maintaining the harmonic structure. In order to do so we train a pix2pix type of model that learns the relations between chroma and the musical texture (distribution of notes). For this purpose we extract chroma from MIDI data and learn a generator that complements the notes from a given texture. You can think about this as something similar to pix2pix that learns completion of image textures from a sketch. In the image GAN the contours for training are generated using an edge detection on a complete image. You can read more about the history of Midi formats at https://cecm.indiana.edu/361/midi.html#:~:text=MIDI%20is%20an%20acronym%20that,each%20other%2C%20using%20MIDI%20messages."
      ]
    },
    {
      "cell_type": "markdown",
      "metadata": {
        "id": "vXqiXvjmGkVv"
      },
      "source": [
        "# 1. Imports and Loading Data\n",
        "Before running, please download the files from https://drive.google.com/drive/folders/1B3WpC9hRH4W6yzh7gahFAZodw1lP4aaM?usp=share_link make sure to upload the following to your python directory\n",
        "- reverse_pianoroll.py\n",
        "- convert.py\n",
        "- Classical_Music_Midi.zip and unzip it"
      ]
    },
    {
      "cell_type": "code",
      "execution_count": 2,
      "metadata": {
        "id": "o8ztrskPi2TJ"
      },
      "outputs": [
        {
          "name": "stdout",
          "output_type": "stream",
          "text": [
            "Archive:  content/Classical_Music_Midi.zip\n",
            "  inflating: content/Classical_Music_Midi/albeniz/alb_esp1.mid  \n",
            "  inflating: content/Classical_Music_Midi/albeniz/alb_esp2.mid  \n",
            "  inflating: content/Classical_Music_Midi/albeniz/alb_esp3.mid  \n",
            "  inflating: content/Classical_Music_Midi/albeniz/alb_esp4.mid  \n",
            "  inflating: content/Classical_Music_Midi/albeniz/alb_esp5.mid  \n",
            "  inflating: content/Classical_Music_Midi/albeniz/alb_esp6.mid  \n",
            "  inflating: content/Classical_Music_Midi/albeniz/alb_se1.mid  \n",
            "  inflating: content/Classical_Music_Midi/albeniz/alb_se2.mid  \n",
            "  inflating: content/Classical_Music_Midi/albeniz/alb_se3.mid  \n",
            "  inflating: content/Classical_Music_Midi/albeniz/alb_se4.mid  \n",
            "  inflating: content/Classical_Music_Midi/albeniz/alb_se5.mid  \n",
            "  inflating: content/Classical_Music_Midi/albeniz/alb_se6.mid  \n",
            "  inflating: content/Classical_Music_Midi/albeniz/alb_se7.mid  \n",
            "  inflating: content/Classical_Music_Midi/albeniz/alb_se8.mid  \n",
            "  inflating: content/Classical_Music_Midi/bach/bach_846.mid  \n",
            "  inflating: content/Classical_Music_Midi/bach/bach_847.mid  \n",
            "  inflating: content/Classical_Music_Midi/bach/bach_850.mid  \n",
            "  inflating: content/Classical_Music_Midi/balakir/islamei.mid  \n",
            "  inflating: content/Classical_Music_Midi/beeth/appass_1.mid  \n",
            "  inflating: content/Classical_Music_Midi/beeth/appass_2.mid  \n",
            "  inflating: content/Classical_Music_Midi/beeth/appass_3.mid  \n",
            "  inflating: content/Classical_Music_Midi/beeth/beethoven_hammerklavier_1.mid  \n",
            "  inflating: content/Classical_Music_Midi/beeth/beethoven_hammerklavier_2.mid  \n",
            "  inflating: content/Classical_Music_Midi/beeth/beethoven_hammerklavier_3.mid  \n",
            "  inflating: content/Classical_Music_Midi/beeth/beethoven_hammerklavier_4.mid  \n",
            "  inflating: content/Classical_Music_Midi/beeth/beethoven_les_adieux_1.mid  \n",
            "  inflating: content/Classical_Music_Midi/beeth/beethoven_les_adieux_2.mid  \n",
            "  inflating: content/Classical_Music_Midi/beeth/beethoven_les_adieux_3.mid  \n",
            "  inflating: content/Classical_Music_Midi/beeth/beethoven_opus10_1.mid  \n",
            "  inflating: content/Classical_Music_Midi/beeth/beethoven_opus10_2.mid  \n",
            "  inflating: content/Classical_Music_Midi/beeth/beethoven_opus10_3.mid  \n",
            "  inflating: content/Classical_Music_Midi/beeth/beethoven_opus22_1.mid  \n",
            "  inflating: content/Classical_Music_Midi/beeth/beethoven_opus22_2.mid  \n",
            "  inflating: content/Classical_Music_Midi/beeth/beethoven_opus22_3.mid  \n",
            "  inflating: content/Classical_Music_Midi/beeth/beethoven_opus22_4.mid  \n",
            "  inflating: content/Classical_Music_Midi/beeth/beethoven_opus90_1.mid  \n",
            "  inflating: content/Classical_Music_Midi/beeth/beethoven_opus90_2.mid  \n",
            "  inflating: content/Classical_Music_Midi/beeth/elise.mid  \n",
            "  inflating: content/Classical_Music_Midi/beeth/mond_1.mid  \n",
            "  inflating: content/Classical_Music_Midi/beeth/mond_2.mid  \n",
            "  inflating: content/Classical_Music_Midi/beeth/mond_3.mid  \n",
            "  inflating: content/Classical_Music_Midi/beeth/pathetique_1.mid  \n",
            "  inflating: content/Classical_Music_Midi/beeth/pathetique_2.mid  \n",
            "  inflating: content/Classical_Music_Midi/beeth/pathetique_3.mid  \n",
            "  inflating: content/Classical_Music_Midi/beeth/waldstein_1.mid  \n",
            "  inflating: content/Classical_Music_Midi/beeth/waldstein_2.mid  \n",
            "  inflating: content/Classical_Music_Midi/beeth/waldstein_3.mid  \n",
            "  inflating: content/Classical_Music_Midi/borodin/bor_ps1.mid  \n",
            "  inflating: content/Classical_Music_Midi/borodin/bor_ps2.mid  \n",
            "  inflating: content/Classical_Music_Midi/borodin/bor_ps3.mid  \n",
            "  inflating: content/Classical_Music_Midi/borodin/bor_ps4.mid  \n",
            "  inflating: content/Classical_Music_Midi/borodin/bor_ps5.mid  \n",
            "  inflating: content/Classical_Music_Midi/borodin/bor_ps6.mid  \n",
            "  inflating: content/Classical_Music_Midi/borodin/bor_ps7.mid  \n",
            "  inflating: content/Classical_Music_Midi/brahms/BR_IM6.MID  \n",
            "  inflating: content/Classical_Music_Midi/brahms/br_im2.mid  \n",
            "  inflating: content/Classical_Music_Midi/brahms/br_im5.mid  \n",
            "  inflating: content/Classical_Music_Midi/brahms/br_rhap.mid  \n",
            "  inflating: content/Classical_Music_Midi/brahms/brahms_opus117_1.mid  \n",
            "  inflating: content/Classical_Music_Midi/brahms/brahms_opus117_2.mid  \n",
            "  inflating: content/Classical_Music_Midi/brahms/brahms_opus1_1.mid  \n",
            "  inflating: content/Classical_Music_Midi/brahms/brahms_opus1_2.mid  \n",
            "  inflating: content/Classical_Music_Midi/brahms/brahms_opus1_3.mid  \n",
            "  inflating: content/Classical_Music_Midi/brahms/brahms_opus1_4.mid  \n",
            "  inflating: content/Classical_Music_Midi/burgm/burg_agitato.mid  \n",
            "  inflating: content/Classical_Music_Midi/burgm/burg_erwachen.mid  \n",
            "  inflating: content/Classical_Music_Midi/burgm/burg_geschwindigkeit.mid  \n",
            "  inflating: content/Classical_Music_Midi/burgm/burg_gewitter.mid  \n",
            "  inflating: content/Classical_Music_Midi/burgm/burg_perlen.mid  \n",
            "  inflating: content/Classical_Music_Midi/burgm/burg_quelle.mid  \n",
            "  inflating: content/Classical_Music_Midi/burgm/burg_spinnerlied.mid  \n",
            "  inflating: content/Classical_Music_Midi/burgm/burg_sylphen.mid  \n",
            "  inflating: content/Classical_Music_Midi/burgm/burg_trennung.mid  \n",
            "  inflating: content/Classical_Music_Midi/chopin/chp_op18.mid  \n",
            "  inflating: content/Classical_Music_Midi/chopin/chp_op31.mid  \n",
            "  inflating: content/Classical_Music_Midi/chopin/chpn-p1.mid  \n",
            "  inflating: content/Classical_Music_Midi/chopin/chpn-p10.mid  \n",
            "  inflating: content/Classical_Music_Midi/chopin/chpn-p11.mid  \n",
            "  inflating: content/Classical_Music_Midi/chopin/chpn-p12.mid  \n",
            "  inflating: content/Classical_Music_Midi/chopin/chpn-p13.mid  \n",
            "  inflating: content/Classical_Music_Midi/chopin/chpn-p14.mid  \n",
            "  inflating: content/Classical_Music_Midi/chopin/chpn-p15.mid  \n",
            "  inflating: content/Classical_Music_Midi/chopin/chpn-p16.mid  \n",
            "  inflating: content/Classical_Music_Midi/chopin/chpn-p17.mid  \n",
            "  inflating: content/Classical_Music_Midi/chopin/chpn-p18.mid  \n",
            "  inflating: content/Classical_Music_Midi/chopin/chpn-p19.mid  \n",
            "  inflating: content/Classical_Music_Midi/chopin/chpn-p2.mid  \n",
            "  inflating: content/Classical_Music_Midi/chopin/chpn-p20.mid  \n",
            "  inflating: content/Classical_Music_Midi/chopin/chpn-p21.mid  \n",
            "  inflating: content/Classical_Music_Midi/chopin/chpn-p22.mid  \n",
            "  inflating: content/Classical_Music_Midi/chopin/chpn-p23.mid  \n",
            "  inflating: content/Classical_Music_Midi/chopin/chpn-p24.mid  \n",
            "  inflating: content/Classical_Music_Midi/chopin/chpn-p3.mid  \n",
            "  inflating: content/Classical_Music_Midi/chopin/chpn-p4.mid  \n",
            "  inflating: content/Classical_Music_Midi/chopin/chpn-p5.mid  \n",
            "  inflating: content/Classical_Music_Midi/chopin/chpn-p6.mid  \n",
            "  inflating: content/Classical_Music_Midi/chopin/chpn-p7.mid  \n",
            "  inflating: content/Classical_Music_Midi/chopin/chpn-p8.mid  \n",
            "  inflating: content/Classical_Music_Midi/chopin/chpn-p9.mid  \n",
            "  inflating: content/Classical_Music_Midi/chopin/chpn_op10_e01.mid  \n",
            "  inflating: content/Classical_Music_Midi/chopin/chpn_op10_e05.mid  \n",
            "  inflating: content/Classical_Music_Midi/chopin/chpn_op10_e12.mid  \n",
            "  inflating: content/Classical_Music_Midi/chopin/chpn_op23.mid  \n",
            "  inflating: content/Classical_Music_Midi/chopin/chpn_op25_e1.mid  \n",
            "  inflating: content/Classical_Music_Midi/chopin/chpn_op25_e11.mid  \n",
            "  inflating: content/Classical_Music_Midi/chopin/chpn_op25_e12.mid  \n",
            "  inflating: content/Classical_Music_Midi/chopin/chpn_op25_e2.mid  \n",
            "  inflating: content/Classical_Music_Midi/chopin/chpn_op25_e3.mid  \n",
            "  inflating: content/Classical_Music_Midi/chopin/chpn_op25_e4.mid  \n",
            "  inflating: content/Classical_Music_Midi/chopin/chpn_op27_1.mid  \n",
            "  inflating: content/Classical_Music_Midi/chopin/chpn_op27_2.mid  \n",
            "  inflating: content/Classical_Music_Midi/chopin/chpn_op33_2.mid  \n",
            "  inflating: content/Classical_Music_Midi/chopin/chpn_op33_4.mid  \n",
            "  inflating: content/Classical_Music_Midi/chopin/chpn_op35_1.mid  \n",
            "  inflating: content/Classical_Music_Midi/chopin/chpn_op35_2.mid  \n",
            "  inflating: content/Classical_Music_Midi/chopin/chpn_op35_3.mid  \n",
            "  inflating: content/Classical_Music_Midi/chopin/chpn_op35_4.mid  \n",
            "  inflating: content/Classical_Music_Midi/chopin/chpn_op53.mid  \n",
            "  inflating: content/Classical_Music_Midi/chopin/chpn_op66.mid  \n",
            "  inflating: content/Classical_Music_Midi/chopin/chpn_op7_1.mid  \n",
            "  inflating: content/Classical_Music_Midi/chopin/chpn_op7_2.mid  \n",
            "  inflating: content/Classical_Music_Midi/debussy/DEB_CLAI.MID  \n",
            "  inflating: content/Classical_Music_Midi/debussy/DEB_PASS.MID  \n",
            "  inflating: content/Classical_Music_Midi/debussy/deb_menu.mid  \n",
            "  inflating: content/Classical_Music_Midi/debussy/deb_prel.mid  \n",
            "  inflating: content/Classical_Music_Midi/debussy/debussy_cc_1.mid  \n",
            "  inflating: content/Classical_Music_Midi/debussy/debussy_cc_2.mid  \n",
            "  inflating: content/Classical_Music_Midi/debussy/debussy_cc_3.mid  \n",
            "  inflating: content/Classical_Music_Midi/debussy/debussy_cc_4.mid  \n",
            "  inflating: content/Classical_Music_Midi/debussy/debussy_cc_6.mid  \n",
            "  inflating: content/Classical_Music_Midi/granados/gra_esp_2.mid  \n",
            "  inflating: content/Classical_Music_Midi/granados/gra_esp_3.mid  \n",
            "  inflating: content/Classical_Music_Midi/granados/gra_esp_4.mid  \n",
            "  inflating: content/Classical_Music_Midi/grieg/grieg_album.mid  \n",
            "  inflating: content/Classical_Music_Midi/grieg/grieg_berceuse.mid  \n",
            "  inflating: content/Classical_Music_Midi/grieg/grieg_brooklet.mid  \n",
            "  inflating: content/Classical_Music_Midi/grieg/grieg_butterfly.mid  \n",
            "  inflating: content/Classical_Music_Midi/grieg/grieg_elfentanz.mid  \n",
            "  inflating: content/Classical_Music_Midi/grieg/grieg_halling.mid  \n",
            "  inflating: content/Classical_Music_Midi/grieg/grieg_kobold.mid  \n",
            "  inflating: content/Classical_Music_Midi/grieg/grieg_march.mid  \n",
            "  inflating: content/Classical_Music_Midi/grieg/grieg_once_upon_a_time.mid  \n",
            "  inflating: content/Classical_Music_Midi/grieg/grieg_spring.mid  \n",
            "  inflating: content/Classical_Music_Midi/grieg/grieg_voeglein.mid  \n",
            "  inflating: content/Classical_Music_Midi/grieg/grieg_waechter.mid  \n",
            "  inflating: content/Classical_Music_Midi/grieg/grieg_walzer.mid  \n",
            "  inflating: content/Classical_Music_Midi/grieg/grieg_wanderer.mid  \n",
            "  inflating: content/Classical_Music_Midi/grieg/grieg_wedding.mid  \n",
            "  inflating: content/Classical_Music_Midi/grieg/grieg_zwerge.mid  \n",
            "  inflating: content/Classical_Music_Midi/haydn/hay_40_1.mid  \n",
            "  inflating: content/Classical_Music_Midi/haydn/hay_40_2.mid  \n",
            "  inflating: content/Classical_Music_Midi/haydn/haydn_33_1.mid  \n",
            "  inflating: content/Classical_Music_Midi/haydn/haydn_33_2.mid  \n",
            "  inflating: content/Classical_Music_Midi/haydn/haydn_33_3.mid  \n",
            "  inflating: content/Classical_Music_Midi/haydn/haydn_35_1.mid  \n",
            "  inflating: content/Classical_Music_Midi/haydn/haydn_35_2.mid  \n",
            "  inflating: content/Classical_Music_Midi/haydn/haydn_35_3.mid  \n",
            "  inflating: content/Classical_Music_Midi/haydn/haydn_43_1.mid  \n",
            "  inflating: content/Classical_Music_Midi/haydn/haydn_43_2.mid  \n",
            "  inflating: content/Classical_Music_Midi/haydn/haydn_43_3.mid  \n",
            "  inflating: content/Classical_Music_Midi/haydn/haydn_7_1.mid  \n",
            "  inflating: content/Classical_Music_Midi/haydn/haydn_7_2.mid  \n",
            "  inflating: content/Classical_Music_Midi/haydn/haydn_7_3.mid  \n",
            "  inflating: content/Classical_Music_Midi/haydn/haydn_8_1.mid  \n",
            "  inflating: content/Classical_Music_Midi/haydn/haydn_8_2.mid  \n",
            "  inflating: content/Classical_Music_Midi/haydn/haydn_8_3.mid  \n",
            "  inflating: content/Classical_Music_Midi/haydn/haydn_8_4.mid  \n",
            "  inflating: content/Classical_Music_Midi/haydn/haydn_9_1.mid  \n",
            "  inflating: content/Classical_Music_Midi/haydn/haydn_9_2.mid  \n",
            "  inflating: content/Classical_Music_Midi/haydn/haydn_9_3.mid  \n",
            "  inflating: content/Classical_Music_Midi/liszt/liz_donjuan.mid  \n",
            "  inflating: content/Classical_Music_Midi/liszt/liz_et1.mid  \n",
            "  inflating: content/Classical_Music_Midi/liszt/liz_et2.mid  \n",
            "  inflating: content/Classical_Music_Midi/liszt/liz_et3.mid  \n",
            "  inflating: content/Classical_Music_Midi/liszt/liz_et4.mid  \n",
            "  inflating: content/Classical_Music_Midi/liszt/liz_et5.mid  \n",
            "  inflating: content/Classical_Music_Midi/liszt/liz_et6.mid  \n",
            "  inflating: content/Classical_Music_Midi/liszt/liz_et_trans4.mid  \n",
            "  inflating: content/Classical_Music_Midi/liszt/liz_et_trans5.mid  \n",
            "  inflating: content/Classical_Music_Midi/liszt/liz_et_trans8.mid  \n",
            "  inflating: content/Classical_Music_Midi/liszt/liz_liebestraum.mid  \n",
            "  inflating: content/Classical_Music_Midi/liszt/liz_rhap02.mid  \n",
            "  inflating: content/Classical_Music_Midi/liszt/liz_rhap09.mid  \n",
            "  inflating: content/Classical_Music_Midi/liszt/liz_rhap10.mid  \n",
            "  inflating: content/Classical_Music_Midi/liszt/liz_rhap12.mid  \n",
            "  inflating: content/Classical_Music_Midi/liszt/liz_rhap15.mid  \n",
            "  inflating: content/Classical_Music_Midi/mendelssohn/mendel_op19_1.mid  \n",
            "  inflating: content/Classical_Music_Midi/mendelssohn/mendel_op19_2.mid  \n",
            "  inflating: content/Classical_Music_Midi/mendelssohn/mendel_op19_3.mid  \n",
            "  inflating: content/Classical_Music_Midi/mendelssohn/mendel_op19_4.mid  \n",
            "  inflating: content/Classical_Music_Midi/mendelssohn/mendel_op19_5.mid  \n",
            "  inflating: content/Classical_Music_Midi/mendelssohn/mendel_op19_6.mid  \n",
            "  inflating: content/Classical_Music_Midi/mendelssohn/mendel_op30_1.mid  \n",
            "  inflating: content/Classical_Music_Midi/mendelssohn/mendel_op30_2.mid  \n",
            "  inflating: content/Classical_Music_Midi/mendelssohn/mendel_op30_3.mid  \n",
            "  inflating: content/Classical_Music_Midi/mendelssohn/mendel_op30_4.mid  \n",
            "  inflating: content/Classical_Music_Midi/mendelssohn/mendel_op30_5.mid  \n",
            "  inflating: content/Classical_Music_Midi/mendelssohn/mendel_op53_5.mid  \n",
            "  inflating: content/Classical_Music_Midi/mendelssohn/mendel_op62_3.mid  \n",
            "  inflating: content/Classical_Music_Midi/mendelssohn/mendel_op62_4.mid  \n",
            "  inflating: content/Classical_Music_Midi/mendelssohn/mendel_op62_5.mid  \n",
            "  inflating: content/Classical_Music_Midi/mozart/mz_311_1.mid  \n",
            "  inflating: content/Classical_Music_Midi/mozart/mz_311_2.mid  \n",
            "  inflating: content/Classical_Music_Midi/mozart/mz_311_3.mid  \n",
            "  inflating: content/Classical_Music_Midi/mozart/mz_330_1.mid  \n",
            "  inflating: content/Classical_Music_Midi/mozart/mz_330_2.mid  \n",
            "  inflating: content/Classical_Music_Midi/mozart/mz_330_3.mid  \n",
            "  inflating: content/Classical_Music_Midi/mozart/mz_331_1.mid  \n",
            "  inflating: content/Classical_Music_Midi/mozart/mz_331_2.mid  \n",
            "  inflating: content/Classical_Music_Midi/mozart/mz_331_3.mid  \n",
            "  inflating: content/Classical_Music_Midi/mozart/mz_332_1.mid  \n",
            "  inflating: content/Classical_Music_Midi/mozart/mz_332_2.mid  \n",
            "  inflating: content/Classical_Music_Midi/mozart/mz_332_3.mid  \n",
            "  inflating: content/Classical_Music_Midi/mozart/mz_333_1.mid  \n",
            "  inflating: content/Classical_Music_Midi/mozart/mz_333_2.mid  \n",
            "  inflating: content/Classical_Music_Midi/mozart/mz_333_3.mid  \n",
            "  inflating: content/Classical_Music_Midi/mozart/mz_545_1.mid  \n",
            "  inflating: content/Classical_Music_Midi/mozart/mz_545_2.mid  \n",
            "  inflating: content/Classical_Music_Midi/mozart/mz_545_3.mid  \n",
            "  inflating: content/Classical_Music_Midi/mozart/mz_570_1.mid  \n",
            "  inflating: content/Classical_Music_Midi/mozart/mz_570_2.mid  \n",
            "  inflating: content/Classical_Music_Midi/mozart/mz_570_3.mid  \n",
            "  inflating: content/Classical_Music_Midi/muss/muss_1.mid  \n",
            "  inflating: content/Classical_Music_Midi/muss/muss_2.mid  \n",
            "  inflating: content/Classical_Music_Midi/muss/muss_3.mid  \n",
            "  inflating: content/Classical_Music_Midi/muss/muss_4.mid  \n",
            "  inflating: content/Classical_Music_Midi/muss/muss_5.mid  \n",
            "  inflating: content/Classical_Music_Midi/muss/muss_6.mid  \n",
            "  inflating: content/Classical_Music_Midi/muss/muss_7.mid  \n",
            "  inflating: content/Classical_Music_Midi/muss/muss_8.mid  \n",
            "  inflating: content/Classical_Music_Midi/schubert/schu_143_1.mid  \n",
            "  inflating: content/Classical_Music_Midi/schubert/schu_143_2.mid  \n",
            "  inflating: content/Classical_Music_Midi/schubert/schu_143_3.mid  \n",
            "  inflating: content/Classical_Music_Midi/schubert/schub_d760_1.mid  \n",
            "  inflating: content/Classical_Music_Midi/schubert/schub_d760_2.mid  \n",
            "  inflating: content/Classical_Music_Midi/schubert/schub_d760_3.mid  \n",
            "  inflating: content/Classical_Music_Midi/schubert/schub_d760_4.mid  \n",
            "  inflating: content/Classical_Music_Midi/schubert/schub_d960_1.mid  \n",
            "  inflating: content/Classical_Music_Midi/schubert/schub_d960_2.mid  \n",
            "  inflating: content/Classical_Music_Midi/schubert/schub_d960_3.mid  \n",
            "  inflating: content/Classical_Music_Midi/schubert/schub_d960_4.mid  \n",
            "  inflating: content/Classical_Music_Midi/schubert/schubert_D850_1.mid  \n",
            "  inflating: content/Classical_Music_Midi/schubert/schubert_D850_2.mid  \n",
            "  inflating: content/Classical_Music_Midi/schubert/schubert_D850_3.mid  \n",
            "  inflating: content/Classical_Music_Midi/schubert/schubert_D850_4.mid  \n",
            "  inflating: content/Classical_Music_Midi/schubert/schubert_D935_1.mid  \n",
            "  inflating: content/Classical_Music_Midi/schubert/schubert_D935_2.mid  \n",
            "  inflating: content/Classical_Music_Midi/schubert/schubert_D935_3.mid  \n",
            "  inflating: content/Classical_Music_Midi/schubert/schubert_D935_4.mid  \n",
            "  inflating: content/Classical_Music_Midi/schubert/schuim-1.mid  \n",
            "  inflating: content/Classical_Music_Midi/schubert/schuim-2.mid  \n",
            "  inflating: content/Classical_Music_Midi/schubert/schuim-3.mid  \n",
            "  inflating: content/Classical_Music_Midi/schubert/schuim-4.mid  \n",
            "  inflating: content/Classical_Music_Midi/schubert/schumm-1.mid  \n",
            "  inflating: content/Classical_Music_Midi/schubert/schumm-2.mid  \n",
            "  inflating: content/Classical_Music_Midi/schubert/schumm-3.mid  \n",
            "  inflating: content/Classical_Music_Midi/schubert/schumm-4.mid  \n",
            "  inflating: content/Classical_Music_Midi/schubert/schumm-5.mid  \n",
            "  inflating: content/Classical_Music_Midi/schubert/schumm-6.mid  \n",
            "  inflating: content/Classical_Music_Midi/schumann/schum_abegg.mid  \n",
            "  inflating: content/Classical_Music_Midi/schumann/scn15_1.mid  \n",
            "  inflating: content/Classical_Music_Midi/schumann/scn15_10.mid  \n",
            "  inflating: content/Classical_Music_Midi/schumann/scn15_11.mid  \n",
            "  inflating: content/Classical_Music_Midi/schumann/scn15_12.mid  \n",
            "  inflating: content/Classical_Music_Midi/schumann/scn15_13.mid  \n",
            "  inflating: content/Classical_Music_Midi/schumann/scn15_2.mid  \n",
            "  inflating: content/Classical_Music_Midi/schumann/scn15_3.mid  \n",
            "  inflating: content/Classical_Music_Midi/schumann/scn15_4.mid  \n",
            "  inflating: content/Classical_Music_Midi/schumann/scn15_5.mid  \n",
            "  inflating: content/Classical_Music_Midi/schumann/scn15_6.mid  \n",
            "  inflating: content/Classical_Music_Midi/schumann/scn15_7.mid  \n",
            "  inflating: content/Classical_Music_Midi/schumann/scn15_8.mid  \n",
            "  inflating: content/Classical_Music_Midi/schumann/scn15_9.mid  \n",
            "  inflating: content/Classical_Music_Midi/schumann/scn16_1.mid  \n",
            "  inflating: content/Classical_Music_Midi/schumann/scn16_2.mid  \n",
            "  inflating: content/Classical_Music_Midi/schumann/scn16_3.mid  \n",
            "  inflating: content/Classical_Music_Midi/schumann/scn16_4.mid  \n",
            "  inflating: content/Classical_Music_Midi/schumann/scn16_5.mid  \n",
            "  inflating: content/Classical_Music_Midi/schumann/scn16_6.mid  \n",
            "  inflating: content/Classical_Music_Midi/schumann/scn16_7.mid  \n",
            "  inflating: content/Classical_Music_Midi/schumann/scn16_8.mid  \n",
            "  inflating: content/Classical_Music_Midi/schumann/scn68_10.mid  \n",
            "  inflating: content/Classical_Music_Midi/schumann/scn68_12.mid  \n",
            "  inflating: content/Classical_Music_Midi/tschai/ty_april.mid  \n",
            "  inflating: content/Classical_Music_Midi/tschai/ty_august.mid  \n",
            "  inflating: content/Classical_Music_Midi/tschai/ty_dezember.mid  \n",
            "  inflating: content/Classical_Music_Midi/tschai/ty_februar.mid  \n",
            "  inflating: content/Classical_Music_Midi/tschai/ty_januar.mid  \n",
            "  inflating: content/Classical_Music_Midi/tschai/ty_juli.mid  \n",
            "  inflating: content/Classical_Music_Midi/tschai/ty_juni.mid  \n",
            "  inflating: content/Classical_Music_Midi/tschai/ty_maerz.mid  \n",
            "  inflating: content/Classical_Music_Midi/tschai/ty_mai.mid  \n",
            "  inflating: content/Classical_Music_Midi/tschai/ty_november.mid  \n",
            "  inflating: content/Classical_Music_Midi/tschai/ty_oktober.mid  \n",
            "  inflating: content/Classical_Music_Midi/tschai/ty_september.mid  \n"
          ]
        }
      ],
      "source": [
        "# !unzip content/Classical_Music_Midi.zip -d content/Classical_Music_Midi/\n",
        "!pip install down\n",
        "!gdown --folder https://drive.google.com/drive/folders/1B3WpC9hRH4W6yzh7gahFAZodw1lP4aaM --output ./content"
      ]
    },
    {
      "cell_type": "code",
      "execution_count": 3,
      "metadata": {
        "id": "dAiCT0DTi2s4"
      },
      "outputs": [
        {
          "name": "stdout",
          "output_type": "stream",
          "text": [
            "Password:\n",
            "sudo: a password is required\n"
          ]
        }
      ],
      "source": [
        "# !brew install -y fluidsynth"
      ]
    },
    {
      "cell_type": "code",
      "execution_count": 4,
      "metadata": {
        "id": "zauwJ6Npi34v"
      },
      "outputs": [
        {
          "name": "stdout",
          "output_type": "stream",
          "text": [
            "Collecting pyfluidsynth\n",
            "  Downloading pyfluidsynth-1.3.4-py3-none-any.whl.metadata (7.5 kB)\n",
            "Requirement already satisfied: numpy in /Users/galdavidi/anaconda3/envs/ML-homework/lib/python3.11/site-packages (from pyfluidsynth) (1.26.4)\n",
            "Downloading pyfluidsynth-1.3.4-py3-none-any.whl (22 kB)\n",
            "Installing collected packages: pyfluidsynth\n",
            "Successfully installed pyfluidsynth-1.3.4\n"
          ]
        }
      ],
      "source": [
        "# !pip install --upgrade pyfluidsynth"
      ]
    },
    {
      "cell_type": "code",
      "execution_count": 7,
      "metadata": {
        "id": "eAwx7RQpi5yk"
      },
      "outputs": [
        {
          "name": "stdout",
          "output_type": "stream",
          "text": [
            "Requirement already satisfied: pretty_midi in /Users/galdavidi/anaconda3/envs/ML-homework/lib/python3.11/site-packages (0.2.10)\n",
            "\u001b[31mERROR: Could not find a version that satisfies the requirement reverse_pianoroll (from versions: none)\u001b[0m\u001b[31m\n",
            "\u001b[0m\u001b[31mERROR: No matching distribution found for reverse_pianoroll\u001b[0m\u001b[31m\n",
            "\u001b[0m"
          ]
        }
      ],
      "source": [
        "# !pip install pretty_midi\n"
      ]
    },
    {
      "cell_type": "code",
      "execution_count": 31,
      "metadata": {
        "id": "zR2xjd5_8g2N"
      },
      "outputs": [],
      "source": [
        "import pretty_midi\n",
        "from  content import reverse_pianoroll\n",
        "from content import convert\n",
        "import librosa"
      ]
    },
    {
      "cell_type": "code",
      "execution_count": 32,
      "metadata": {
        "id": "LNiQvohD8g25"
      },
      "outputs": [],
      "source": [
        "import numpy as np\n",
        "import sys\n",
        "import random"
      ]
    },
    {
      "cell_type": "code",
      "execution_count": 33,
      "metadata": {
        "id": "SWV1ONBqEj1t"
      },
      "outputs": [],
      "source": [
        "#all necessary imports: use pip install [library name] to add to environment\n",
        "\n",
        "import tensorflow.compat.v1 as tf\n",
        "import numpy as np\n",
        "import matplotlib.pyplot as plt\n",
        "import matplotlib.gridspec as gridspec\n",
        "import os\n",
        "from os import listdir\n",
        "import glob"
      ]
    },
    {
      "cell_type": "code",
      "execution_count": 34,
      "metadata": {
        "id": "t0MVvlIeEj1v"
      },
      "outputs": [],
      "source": [
        "#add songs to data\n",
        "def get_songs(path):\n",
        "    files = glob.glob('{}/*.mid*'.format(path))\n",
        "    songs = {}\n",
        "    for f in files:\n",
        "        try:\n",
        "            data = pretty_midi.PrettyMIDI(f)\n",
        "            song = data.get_piano_roll(fs=16)\n",
        "            song = convert.forward(song)\n",
        "            # song = np.transpose(song) #if your code matrices aren't working, try uncommenting this. the convert.py file might not be updated\n",
        "            songs[f] = {\n",
        "                'original_midi': data,\n",
        "                'song': song\n",
        "            }\n",
        "        except Exception as e:\n",
        "            raise e\n",
        "    return songs"
      ]
    },
    {
      "cell_type": "code",
      "execution_count": 36,
      "metadata": {
        "id": "Xmg6hl8KjBJc"
      },
      "outputs": [],
      "source": [
        "from IPython import display\n",
        "import fluidsynth\n",
        "\n",
        "_SAMPLING_RATE = 16000\n",
        "def display_audio(pm: pretty_midi.PrettyMIDI, seconds=30):\n",
        "  waveform = pm.fluidsynth(fs=_SAMPLING_RATE)\n",
        "  # Take a sample of the generated waveform to mitigate kernel resets\n",
        "  waveform_short = waveform[:seconds*_SAMPLING_RATE]\n",
        "  return display.Audio(waveform_short, rate=_SAMPLING_RATE)"
      ]
    },
    {
      "cell_type": "code",
      "execution_count": 65,
      "metadata": {
        "id": "8iihxLXwEj1w",
        "outputId": "1ece621f-2808-40e3-dade-378de66ba1c8"
      },
      "outputs": [
        {
          "ename": "AssertionError",
          "evalue": "",
          "output_type": "error",
          "traceback": [
            "\u001b[0;31m---------------------------------------------------------------------------\u001b[0m",
            "\u001b[0;31mAssertionError\u001b[0m                            Traceback (most recent call last)",
            "Cell \u001b[0;32mIn[65], line 23\u001b[0m\n\u001b[1;32m     20\u001b[0m     \u001b[38;5;28;01mreturn\u001b[39;00m songs\n\u001b[1;32m     22\u001b[0m songs \u001b[38;5;241m=\u001b[39m get_songs(\u001b[38;5;124m'\u001b[39m\u001b[38;5;124m./content/Classical_Music_Midi/mozart\u001b[39m\u001b[38;5;124m'\u001b[39m)\n\u001b[0;32m---> 23\u001b[0m songs \u001b[38;5;241m=\u001b[39m add_chromas(songs)\n\u001b[1;32m     24\u001b[0m \u001b[38;5;28mprint\u001b[39m (\u001b[38;5;124m\"\u001b[39m\u001b[38;5;132;01m{}\u001b[39;00m\u001b[38;5;124m songs processed\u001b[39m\u001b[38;5;124m\"\u001b[39m\u001b[38;5;241m.\u001b[39mformat(\u001b[38;5;28mlen\u001b[39m([\u001b[38;5;124m'\u001b[39m\u001b[38;5;124msong\u001b[39m\u001b[38;5;124m'\u001b[39m \u001b[38;5;129;01min\u001b[39;00m songs[f] \u001b[38;5;28;01mfor\u001b[39;00m f \u001b[38;5;129;01min\u001b[39;00m songs])))\n\u001b[1;32m     25\u001b[0m \u001b[38;5;28mprint\u001b[39m (\u001b[38;5;124m\"\u001b[39m\u001b[38;5;132;01m{}\u001b[39;00m\u001b[38;5;124m chromas processed\u001b[39m\u001b[38;5;124m\"\u001b[39m\u001b[38;5;241m.\u001b[39mformat(\u001b[38;5;28mlen\u001b[39m([\u001b[38;5;124m'\u001b[39m\u001b[38;5;124mchroma\u001b[39m\u001b[38;5;124m'\u001b[39m \u001b[38;5;129;01min\u001b[39;00m songs[f] \u001b[38;5;28;01mfor\u001b[39;00m f \u001b[38;5;129;01min\u001b[39;00m songs])))\n",
            "Cell \u001b[0;32mIn[65], line 17\u001b[0m, in \u001b[0;36madd_chromas\u001b[0;34m(songs)\u001b[0m\n\u001b[1;32m     15\u001b[0m             \u001b[38;5;28;01mif\u001b[39;00m songs[song][\u001b[38;5;124m'\u001b[39m\u001b[38;5;124msong\u001b[39m\u001b[38;5;124m'\u001b[39m][i][j] \u001b[38;5;241m>\u001b[39m \u001b[38;5;241m0\u001b[39m:\n\u001b[1;32m     16\u001b[0m                 chroma[i][np\u001b[38;5;241m.\u001b[39mmod(j,\u001b[38;5;241m12\u001b[39m)] \u001b[38;5;241m+\u001b[39m\u001b[38;5;241m=\u001b[39m \u001b[38;5;241m1\u001b[39m \u001b[38;5;66;03m# there are 12 notes in an octave so we can just mod by 12 to get the correct chord index\u001b[39;00m\n\u001b[0;32m---> 17\u001b[0m                 \u001b[38;5;28;01massert\u001b[39;00m songs[song][\u001b[38;5;124m'\u001b[39m\u001b[38;5;124msong\u001b[39m\u001b[38;5;124m'\u001b[39m][i][j] \u001b[38;5;241m==\u001b[39m songs[song][\u001b[38;5;124m'\u001b[39m\u001b[38;5;124msong\u001b[39m\u001b[38;5;124m'\u001b[39m][i][j\u001b[38;5;241m+\u001b[39m\u001b[38;5;241m78\u001b[39m]\n\u001b[1;32m     18\u001b[0m     songs[song][\u001b[38;5;124m'\u001b[39m\u001b[38;5;124mchroma\u001b[39m\u001b[38;5;124m'\u001b[39m] \u001b[38;5;241m=\u001b[39m chroma\n\u001b[1;32m     20\u001b[0m \u001b[38;5;28;01mreturn\u001b[39;00m songs\n",
            "\u001b[0;31mAssertionError\u001b[0m: "
          ]
        }
      ],
      "source": [
        "#custom function to extract chroma features from song\n",
        "def add_chromas(songs):\n",
        "    \"\"\"\n",
        "    the add_chromas function takes in a dictionary of songs and adds a chroma feature to each song in the dictionary.\n",
        "    for each song in the songs (which is the piano roll of the song), extract the chroma features by finding the notes that are \n",
        "    played at each time step. \n",
        "    by checking if the value of the note is greater than 0. if so we find the note using mod 12 and increment the corresponding \n",
        "    index in the chroma vector.\n",
        "    \"\"\"\n",
        "    chromas = []\n",
        "    for song in songs:\n",
        "        chroma = np.zeros(shape=(np.shape(songs[song]['song'])[0], 12))\n",
        "        for i in np.arange(np.shape(songs[song]['song'])[0]): # for each time step\n",
        "            for j in np.arange(78): # the shape of songs[song]['song'][i] is 156 (78*2)   \n",
        "                if songs[song]['song'][i][j] > 0:\n",
        "                    chroma[i][np.mod(j,12)] += 1 # there are 12 notes in an octave so we can just mod by 12 to get the correct chord index\n",
        "        songs[song]['chroma'] = chroma\n",
        "\n",
        "    return songs\n",
        "\n",
        "songs = get_songs('./content/Classical_Music_Midi/mozart')\n",
        "songs = add_chromas(songs)\n",
        "print (\"{} songs processed\".format(len(['song' in songs[f] for f in songs])))\n",
        "print (\"{} chromas processed\".format(len(['chroma' in songs[f] for f in songs])))"
      ]
    },
    {
      "cell_type": "markdown",
      "metadata": {
        "id": "YzToDZo1WYD_"
      },
      "source": [
        "#### Exploring the song and chroma representations\n",
        "\n",
        "Looking at a random song segment"
      ]
    },
    {
      "cell_type": "code",
      "execution_count": 39,
      "metadata": {
        "id": "XjqIzFx7WYD_",
        "outputId": "686477ca-27d3-4432-d46a-965b6acfc66e"
      },
      "outputs": [
        {
          "data": {
            "text/plain": [
              "((3809, 156), (3809, 12))"
            ]
          },
          "execution_count": 39,
          "metadata": {},
          "output_type": "execute_result"
        }
      ],
      "source": [
        "cur_song = list(songs.keys())[0]\n",
        "song = songs[cur_song]['song']\n",
        "chroma = songs[cur_song]['chroma']\n",
        "np.shape(song), np.shape(chroma)"
      ]
    },
    {
      "cell_type": "code",
      "execution_count": 40,
      "metadata": {
        "id": "stw04DAGWYEA",
        "outputId": "a7e3ffef-4d75-41fa-9cd9-bf0039ae55cc"
      },
      "outputs": [
        {
          "data": {
            "text/plain": [
              "<matplotlib.image.AxesImage at 0x3235f1050>"
            ]
          },
          "execution_count": 40,
          "metadata": {},
          "output_type": "execute_result"
        },
        {
          "data": {
            "image/png": "[encoded data removed]",
            "text/plain": [
              "<Figure size 2000x1000 with 1 Axes>"
            ]
          },
          "metadata": {},
          "output_type": "display_data"
        }
      ],
      "source": [
        "plt.figure(figsize = (20,10))\n",
        "plt.imshow(100*song[:100,:].T)"
      ]
    },
    {
      "cell_type": "code",
      "execution_count": 41,
      "metadata": {
        "id": "7QJ3I7UWWYEB",
        "outputId": "f071f113-edaa-4c7a-d163-2ce87321b96f"
      },
      "outputs": [
        {
          "data": {
            "text/plain": [
              "<matplotlib.image.AxesImage at 0x325b47590>"
            ]
          },
          "execution_count": 41,
          "metadata": {},
          "output_type": "execute_result"
        },
        {
          "data": {
            "image/png": "[encoded data removed]",
            "text/plain": [
              "<Figure size 2000x1000 with 1 Axes>"
            ]
          },
          "metadata": {},
          "output_type": "display_data"
        }
      ],
      "source": [
        "plt.figure(figsize = (20,10))\n",
        "plt.imshow(100*chroma[:100,:].T)"
      ]
    },
    {
      "cell_type": "markdown",
      "metadata": {
        "id": "1YBxV2uQWYEB"
      },
      "source": [
        "##### Question 1 [5 points]\n",
        "Describe what the chromas function does. In your answer refer to musical terms of note names and octave numbers. How does that resemble or differ from the chroma feature that is computed for audio spectrum? Use the figures to demonstrate the explanation.\n",
        "\n",
        "Hint: Refresh the musical terms by looking at the lecture slides and consider what type of music anaylsis the audio chroma is used for. If you are interested more in musical theory you may also consider the concepts of \"pitch class\" and \"music set theory\" that are explained in https://en.wikipedia.org/wiki/Musical_note and https://en.wikipedia.org/wiki/Set_theory_%28music%29"
      ]
    },
    {
      "cell_type": "markdown",
      "metadata": {
        "id": "8hhMa419WYEB"
      },
      "source": [
        "the add_chromas function takes in a dictionary of songs and adds a chroma feature to each song in the dictionary.\n",
        "for each song in the songs (which is the piano roll of the song), extract the chroma features by finding the notes that are played at each time step \n",
        "by checking if the value of each of the 78 piano roll notes is greater than 0 - active. if so we find the musical (c,d,e,f...) note using mod 12 and increment the corresponding index in the chroma feature - chord."
      ]
    },
    {
      "cell_type": "markdown",
      "metadata": {
        "id": "lIhhTSj6GtvT"
      },
      "source": [
        "# 2. Setting Up GAN Model"
      ]
    },
    {
      "cell_type": "code",
      "execution_count": 51,
      "metadata": {
        "colab": {
          "base_uri": "https://localhost:8080/"
        },
        "id": "aIaKKrWmEj1w",
        "outputId": "5bd4c581-204f-4706-a2a6-c9edfde2e467"
      },
      "outputs": [
        {
          "name": "stdout",
          "output_type": "stream",
          "text": [
            "624 48\n"
          ]
        }
      ],
      "source": [
        "lowest_note = 0 #the index of the lowest note on the piano roll\n",
        "highest_note = 78 #the index of the highest note on the piano roll\n",
        "note_range = highest_note-lowest_note #the note range\n",
        "\n",
        "num_timesteps  = 4 #This is the number of timesteps that we will create at a time\n",
        "X_dim = 2*note_range*num_timesteps #This is the size of the visible layer.\n",
        "Z_dim = 12*num_timesteps \n",
        "n_hidden = 50 #This is the size of the hidden layer\n",
        "\n",
        "print(X_dim,Z_dim)"
      ]
    },
    {
      "cell_type": "markdown",
      "metadata": {
        "id": "byxUD8BDWYEC"
      },
      "source": [
        "##### Question 2 [5 points]\n",
        "\n",
        "Explain what aspects of music (pitch, rhythm, note duration) are captured by the latent random Z? In your answer refer to the representaiton of the song data. Note how song matrix differs from standard pianoroll."
      ]
    },
    {
      "cell_type": "markdown",
      "metadata": {
        "id": "_XGBCf4JWYEC"
      },
      "source": [
        "random latent Z represent the 12 chromas * timesteps.\n",
        "chroma is a note class (all the do, all the re,...)\n",
        "\n",
        "Z is the harmonic structure \n"
      ]
    },
    {
      "cell_type": "code",
      "execution_count": 49,
      "metadata": {
        "id": "uDpINNjpEj1x"
      },
      "outputs": [],
      "source": [
        "def xavier_init(size):\n",
        "    in_dim = size[0]\n",
        "    xavier_stddev = 1. / tf.sqrt(in_dim / 2.)\n",
        "    return tf.random_normal(shape=size, stddev=xavier_stddev)"
      ]
    },
    {
      "cell_type": "code",
      "execution_count": 52,
      "metadata": {
        "id": "24NXtz5IEj1x"
      },
      "outputs": [],
      "source": [
        "tf.disable_v2_behavior()\n",
        "\n",
        "#setting up model, discriminator weights and biases\n",
        "X = tf.placeholder(tf.float32, shape=[None, X_dim])\n",
        "\n",
        "\n",
        "D_W1 = tf.Variable(xavier_init([X_dim+Z_dim, 512]))\n",
        "D_b1 = tf.Variable(tf.zeros(shape=[512]))\n",
        "\n",
        "D_W2 = tf.Variable(xavier_init([512, 1]))\n",
        "D_b2 = tf.Variable(tf.zeros(shape=[1]))\n",
        "\n",
        "theta_D = [D_W1, D_W2, D_b1, D_b2]"
      ]
    },
    {
      "cell_type": "code",
      "execution_count": 53,
      "metadata": {
        "id": "LRLHyW-CEj1x"
      },
      "outputs": [],
      "source": [
        "#setting up model, generator weights and biases\n",
        "\n",
        "#z is the space we're generating from\n",
        "Z = tf.placeholder(tf.float32, shape=[None, Z_dim])\n",
        "\n",
        "G_W1 = tf.Variable(xavier_init([Z_dim, 128]))\n",
        "G_b1 = tf.Variable(tf.zeros(shape=[128]))\n",
        "\n",
        "G_W2 = tf.Variable(xavier_init([128, X_dim]))\n",
        "G_b2 = tf.Variable(tf.zeros(shape=[X_dim]))\n",
        "\n",
        "theta_G = [G_W1, G_W2, G_b1, G_b2]"
      ]
    },
    {
      "cell_type": "code",
      "execution_count": 54,
      "metadata": {
        "id": "mIjKz4MwEj1x"
      },
      "outputs": [],
      "source": [
        "def generator(z):\n",
        "    G_h1 = tf.nn.relu(tf.matmul(z, G_W1) + G_b1)\n",
        "    G_log_prob = tf.matmul(G_h1, G_W2) + G_b2\n",
        "    G_prob = tf.nn.sigmoid(G_log_prob)\n",
        "\n",
        "    return G_prob"
      ]
    },
    {
      "cell_type": "code",
      "execution_count": 55,
      "metadata": {
        "id": "bWImNLv-Ej1y"
      },
      "outputs": [],
      "source": [
        "def discriminator(x,c):\n",
        "\n",
        "    D_h1 = tf.nn.relu(tf.matmul(tf.concat([x,c],1), D_W1) + D_b1)\n",
        "    D_logit = tf.matmul(D_h1, D_W2) + D_b2\n",
        "    D_prob = tf.nn.sigmoid(D_logit)\n",
        "\n",
        "    return D_prob, D_logit"
      ]
    },
    {
      "cell_type": "code",
      "execution_count": 56,
      "metadata": {
        "id": "tI8yFjDWEj1y"
      },
      "outputs": [],
      "source": [
        "def plot(samples):\n",
        "    fig = plt.figure(figsize=(4, 4))\n",
        "    gs = gridspec.GridSpec(4, 4)\n",
        "    gs.update(wspace=0.05, hspace=0.05)\n",
        "\n",
        "    for i, sample in enumerate(samples):\n",
        "        ax = plt.subplot(gs[i])\n",
        "        plt.axis('off')\n",
        "        ax.set_xticklabels([])\n",
        "        ax.set_yticklabels([])\n",
        "        ax.set_aspect('equal')\n",
        "\n",
        "        plt.imshow(sample.reshape(78, 30), cmap='Greys_r')\n",
        "\n",
        "\n",
        "    return fig"
      ]
    },
    {
      "cell_type": "code",
      "execution_count": 62,
      "metadata": {
        "id": "P8CrxuCaEj1z"
      },
      "outputs": [],
      "source": [
        "G_sample = generator(Z)"
      ]
    },
    {
      "cell_type": "code",
      "execution_count": 58,
      "metadata": {
        "id": "kjJ7f5I-Ej10"
      },
      "outputs": [],
      "source": [
        "D_real, D_logit_real = discriminator(X,Z)"
      ]
    },
    {
      "cell_type": "code",
      "execution_count": 59,
      "metadata": {
        "id": "n8992jJOEj10"
      },
      "outputs": [],
      "source": [
        "D_fake, D_logit_fake = discriminator(G_sample,Z)"
      ]
    },
    {
      "cell_type": "markdown",
      "metadata": {
        "id": "dh8fl0XfWYEF"
      },
      "source": [
        "##### Question 3 [10 points]\n",
        "In standard GAN, the discriminator receives as input true or fake (generated) data only. Explain why in our case the disrciminator receives as input both the data and an additional variable Z? How this Z differs from the usual GAN input of a random vector?"
      ]
    },
    {
      "cell_type": "markdown",
      "metadata": {
        "id": "k7IG3GowWYEF"
      },
      "source": [
        "This is different from a standard GAN discriminator because it's conditional - it doesn't just try to determine if the input is real or fake, but also checks if it matches the given chroma features. This helps ensure the generated music maintains the harmonic structure specified by the chroma input.\n",
        "The discriminator is essentially learning to identify not just realistic music, but realistic music that properly corresponds to the given chroma features."
      ]
    },
    {
      "cell_type": "code",
      "execution_count": 66,
      "metadata": {
        "id": "tcYoVloPEj10"
      },
      "outputs": [],
      "source": [
        "\n",
        "# Alternative losses:\n",
        "# -------------------\n",
        "Lambda = 100\n",
        "D_loss_real = tf.reduce_mean(tf.nn.sigmoid_cross_entropy_with_logits(logits=D_logit_real, labels=tf.ones_like(D_logit_real)))\n",
        "D_loss_fake = tf.reduce_mean(tf.nn.sigmoid_cross_entropy_with_logits(logits=D_logit_fake, labels=tf.zeros_like(D_logit_fake)))\n",
        "D_loss = D_loss_real + D_loss_fake\n",
        "G_loss_fake = tf.reduce_mean(tf.nn.sigmoid_cross_entropy_with_logits(logits=D_logit_fake, labels=tf.ones_like(D_logit_fake)))\n",
        "G_loss_L1 = tf.reduce_mean(tf.losses.mean_squared_error(X,G_sample))\n",
        "G_loss = G_loss_fake + Lambda*G_loss_L1"
      ]
    },
    {
      "cell_type": "markdown",
      "metadata": {
        "id": "gXhwRKjdWYEF"
      },
      "source": [
        "##### Question 4 [10 points]\n",
        "Explain the two components of the discriminator loss in the D_loss expression. Why the real loss uses tf.ones_like andthe fake loss uses tf.zeros_like in the cross entory loss? What are the statistical distributions (which datasets are used) in computational of the real and fake losses. In your answers you may either include an equation image or write the loss equaiton in latex mathamtical notation inside Markdown cell."
      ]
    },
    {
      "cell_type": "markdown",
      "metadata": {
        "id": "qHQeph5cWYEF"
      },
      "source": [
        "### Discriminator Loss Components\n",
        "\n",
        "D_loss_real - its the real data componenet and we use one_like because we want to maximize the probability of correctly identifying real samples (output close to 1)\n",
        "D_loss_fake - This component handles generated/fake samples. and we use zero_like because we want to minimize the probability of being fooled by generated samples (output close to 0) "
      ]
    },
    {
      "cell_type": "markdown",
      "metadata": {
        "id": "aiUKc6qaWYEG"
      },
      "source": [
        "##### Question 5 [10 points]\n",
        "In the generator loss G_loss we add an L1 loss. What does it represent? Why do you think we might want to add the L1 loss to the GAN model? We will explore this question further down the assignment, so at this point write down your best explanation based on the equations themselves without running any experiments."
      ]
    },
    {
      "cell_type": "markdown",
      "metadata": {
        "id": "mGnjeFAZWYEG"
      },
      "source": [
        "``` your response here ```"
      ]
    },
    {
      "cell_type": "code",
      "execution_count": null,
      "metadata": {
        "id": "Oc9zTKiEEj11"
      },
      "outputs": [],
      "source": [
        "#optimizing functions\n",
        "D_solver = tf.train.AdamOptimizer().minimize(D_loss, var_list=theta_D)\n",
        "G_solver = tf.train.AdamOptimizer().minimize(G_loss, var_list=theta_G)"
      ]
    },
    {
      "cell_type": "code",
      "execution_count": null,
      "metadata": {
        "id": "V_yjcm__Ej11"
      },
      "outputs": [],
      "source": [
        "#output midi file folder\n",
        "if not os.path.exists('out/'):\n",
        "    os.makedirs('out/')"
      ]
    },
    {
      "cell_type": "code",
      "execution_count": null,
      "metadata": {
        "id": "wMfONb8gEj11"
      },
      "outputs": [],
      "source": [
        "sess = tf.Session()\n",
        "sess.run(tf.global_variables_initializer())"
      ]
    },
    {
      "cell_type": "markdown",
      "metadata": {
        "id": "AI2HBr6YGzkM"
      },
      "source": [
        "# 3. Training GAN Model"
      ]
    },
    {
      "cell_type": "code",
      "execution_count": null,
      "metadata": {
        "id": "FZBAHllDEj11",
        "scrolled": false
      },
      "outputs": [],
      "source": [
        "i = 0\n",
        "num_epochs = 200000\n",
        "batch_size = 100\n",
        "S_cutoff = 0.5\n",
        "#commented out print statements output different losses, and plotting functions plot the piano roll and chroma.\n",
        "while i <= num_epochs:\n",
        "    # for song, chroma in zip(songs, chromas):\n",
        "    for files in songs:\n",
        "        song = songs[files]['song']\n",
        "        chroma = songs[files]['chroma']\n",
        "        # The songs are stored in a time x notes format. The size of each song is timesteps_in_song x 2*note_range\n",
        "        # Here we reshape the songs so that each training example is a vector with num_timesteps x 2*note_range elements\n",
        "        song = np.array(song)\n",
        "        song_steps = np.floor(song.shape[0]/num_timesteps).astype(int)\n",
        "        song = song[:song_steps*num_timesteps]\n",
        "        song = np.reshape(song, [song_steps, song.shape[1]*num_timesteps])\n",
        "        chroma = np.array(chroma)\n",
        "        chroma = chroma[:song_steps*num_timesteps]\n",
        "        chroma = np.reshape(chroma, [song_steps, chroma.shape[1]*num_timesteps])\n",
        "        batch_size = min(batch_size,len(song))\n",
        "        # Train the RBM on batch_size examples at a time\n",
        "        for ind in range(0, len(song), batch_size):\n",
        "            X_mb = song[ind:ind+batch_size]\n",
        "            ch = chroma[ind:ind+batch_size]\n",
        "            _, D_loss_curr = sess.run([D_solver, D_loss], feed_dict={X: X_mb, Z: ch})\n",
        "            _, G_loss_curr = sess.run([G_solver, G_loss], feed_dict={X: X_mb, Z: ch})\n",
        "\n",
        "            if i % 1000 == 0:\n",
        "                print('Iter: {}'.format(i))\n",
        "                dloss = ('D_Loss: {:.4}'. format(D_loss_curr))\n",
        "                gloss = ('G_Loss: {:.4}'. format(G_loss_curr))\n",
        "                print(dloss)\n",
        "                print(gloss)\n",
        "\n",
        "                samples = sess.run(G_sample, feed_dict={Z: ch})\n",
        "\n",
        "                S = np.reshape(samples, (ch.shape[0]*num_timesteps, 2*note_range))\n",
        "                thresh_S = S>=S_cutoff\n",
        "\n",
        "                thresh_S = np.transpose(thresh_S)\n",
        "\n",
        "\n",
        "                C = np.reshape(ch, (ch.shape[0]*num_timesteps, 12))\n",
        "\n",
        "                test = reverse_pianoroll.piano_roll_to_pretty_midi(convert.back(thresh_S), fs=16)\n",
        "                test.write('out/{}.mid'.format(i))\n",
        "\n",
        "            i += 1"
      ]
    },
    {
      "cell_type": "markdown",
      "metadata": {
        "id": "m9svDngpHzty"
      },
      "source": [
        "# 4. Style Transfer with a New Genre Dataset"
      ]
    },
    {
      "cell_type": "markdown",
      "metadata": {
        "id": "O12p-OvfWYEI"
      },
      "source": [
        "In this part we will explore using the trained GAN to compose new music according to the harmonic structure of another musical input. In a way this comprises of a style transfer between the input music that belongs to style A and the output music that is generated using GAN trained on style B. In the example we will used J.S.Bach as our input (Style A) and output music in Mozart's style that was use to train our GAN (Style B). The new Mozart piece should follow the harmonic structure (chord progressions) of the Bach input."
      ]
    },
    {
      "cell_type": "code",
      "execution_count": null,
      "metadata": {
        "id": "SSzNXQleEj13",
        "outputId": "6d117973-ae1e-4be4-c2d7-77aba8ea94d2"
      },
      "outputs": [
        {
          "name": "stdout",
          "output_type": "stream",
          "text": [
            "3 songs processed\n",
            "3 songs processed\n"
          ]
        }
      ],
      "source": [
        "#for testing, we will be using a different composer dataset to input into the generator here.\n",
        "test_song = get_songs(\"./Classical_Music_Midi/bach\")\n",
        "test_song = add_chromas(test_song)\n",
        "\n",
        "print (\"{} songs processed\".format(len(['song' in test_song[f] for f in test_song])))\n",
        "print (\"{} chromas processed\".format(len(['chroma' in test_song[f] for f in test_song])))"
      ]
    },
    {
      "cell_type": "code",
      "execution_count": null,
      "metadata": {
        "id": "g-lb4wigiXTm"
      },
      "outputs": [],
      "source": [
        "#converted midi file folder\n",
        "if not os.path.exists('converted/'):\n",
        "    os.makedirs('converted/')"
      ]
    },
    {
      "cell_type": "code",
      "execution_count": null,
      "metadata": {
        "id": "R1yURaYKEj14"
      },
      "outputs": [],
      "source": [
        "i = 0\n",
        "S_cutoff = 0.5\n",
        "\n",
        "# for i,c in enumerate(test_chromaz):\n",
        "for song in test_song:\n",
        "    test_chroma = np.array(test_song[song]['chroma'])\n",
        "\n",
        "    test_chroma = test_chroma[:np.floor(test_chroma.shape[0]/num_timesteps).astype(int)*num_timesteps]\n",
        "    test_chroma = np.reshape(test_chroma, [int(test_chroma.shape[0]/num_timesteps), test_chroma.shape[1]*num_timesteps])\n",
        "\n",
        "    out_samples = sess.run(G_sample, feed_dict={Z: test_chroma})\n",
        "\n",
        "    S = np.reshape(out_samples, (np.floor(out_samples.shape[0]*out_samples.shape[1]/2/note_range).astype(int), 2*note_range))\n",
        "    C = np.reshape(test_chroma, (test_chroma.shape[0]*num_timesteps, 12))\n",
        "\n",
        "    thresh_S = S>=S_cutoff\n",
        "    thresh_S = np.transpose(thresh_S)\n",
        "\n",
        "    test = reverse_pianoroll.piano_roll_to_pretty_midi(convert.back(thresh_S), fs=16)\n",
        "    test_song[song]['generated'] = test\n",
        "    test.write('converted/{}.mid'.format(song.split('/')[-1].split('.')[0]+\"generated\"))\n",
        "\n"
      ]
    },
    {
      "cell_type": "markdown",
      "metadata": {
        "id": "mecEOik9WYEI"
      },
      "source": [
        "##### Question 6 [10 points]\n",
        "Open the conversion results in a musical MIDI software (such as Musescore) and observe/listen to the results. Write down your impressions about the quality of the musical texture style transfer - did the harmonic structure follow the Bach input? How did the notes distribution (choice of pitches and durations) change relative to the original Bach piece? Does the S_cutoff parameter affect the outcome, and if so, how?\n",
        "\n",
        "Summarize your findings and suggest some conclusions. Can you point to any musical aspects that were poorly modeled and ideas of improvement?"
      ]
    },
    {
      "cell_type": "markdown",
      "metadata": {
        "id": "emLJzZ0JWYEJ"
      },
      "source": [
        "``` your response here ```"
      ]
    },
    {
      "cell_type": "markdown",
      "metadata": {
        "id": "zfiNHssBWYEJ"
      },
      "source": [
        "# 5. Further experiments"
      ]
    },
    {
      "cell_type": "markdown",
      "metadata": {
        "id": "N9N-BA73WYEJ"
      },
      "source": [
        "##### Question 7 & 8: [total 30 points]\n",
        "\n",
        "Choose two of the experiments and report their results:\n",
        "\n",
        "1. Explore style transfer between more distant styles: For this purpose you may use the Pop_Music_Midi dataset and repeat the Style Transfer Experiment between Classical and Pop music (and vice versa). Report your findings in qualitative ways and submit the midi results together with your explanation. [20 Points]\n",
        "\n",
        "2. Expermment with L1 distance: retrain the GAN model with very small and very large Lambda. What are the effects of such changes? When is the texture of the output more or less musical? Are the harmonic progressions of the input followed or ignored? Any other observations? [20 Points]\n",
        "\n",
        "3. Create your own song: use the leadsheet2chroma.py file provided to create a Mozart style composition from your own leadsheet input. Provide the leadsheet in text format and the midi file results. Report your observations about the musical quality of the results. You may alter the leadsheet2chroma.py to fit other chords if you wish, or train GAN in a style different then Mozart. [20 Points]\n",
        "\n"
      ]
    },
    {
      "cell_type": "markdown",
      "metadata": {
        "id": "qHmu1PDiIP97"
      },
      "source": [
        "``` your response here ```"
      ]
    },
    {
      "cell_type": "markdown",
      "metadata": {
        "id": "LLxi0zt_HoZF"
      },
      "source": [
        "##### Question 9 [20 points]\n",
        "\n",
        "Please record a 2-5 minute video of yourself explaining questions 1 to 7.\n",
        "\n",
        "If you are shy (or have a bad hairday) you can use filters to augment or cover your face. Please submit it as a public google drive url."
      ]
    },
    {
      "cell_type": "markdown",
      "metadata": {
        "id": "SjrtXvLyIUxo"
      },
      "source": [
        "``` your response here ```"
      ]
    }
  ],
  "metadata": {
    "colab": {
      "provenance": []
    },
    "kernelspec": {
      "display_name": "Python 3 (ipykernel)",
      "language": "python",
      "name": "python3"
    },
    "language_info": {
      "codemirror_mode": {
        "name": "ipython",
        "version": 3
      },
      "file_extension": ".py",
      "mimetype": "text/x-python",
      "name": "python",
      "nbconvert_exporter": "python",
      "pygments_lexer": "ipython3",
      "version": "3.11.9"
    }
  },
  "nbformat": 4,
  "nbformat_minor": 0
}
